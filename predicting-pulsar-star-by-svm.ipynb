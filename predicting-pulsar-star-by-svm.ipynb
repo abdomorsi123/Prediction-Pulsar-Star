{
 "cells": [
  {
   "cell_type": "markdown",
   "id": "01b786e6",
   "metadata": {
    "papermill": {
     "duration": 0.057231,
     "end_time": "2022-02-22T16:07:38.978506",
     "exception": false,
     "start_time": "2022-02-22T16:07:38.921275",
     "status": "completed"
    },
    "tags": []
   },
   "source": [
    "# Import libraries"
   ]
  },
  {
   "cell_type": "code",
   "execution_count": 1,
   "id": "d21531fd",
   "metadata": {
    "execution": {
     "iopub.execute_input": "2022-02-22T16:07:39.098752Z",
     "iopub.status.busy": "2022-02-22T16:07:39.097235Z",
     "iopub.status.idle": "2022-02-22T16:07:40.512413Z",
     "shell.execute_reply": "2022-02-22T16:07:40.512978Z",
     "shell.execute_reply.started": "2021-12-16T19:57:57.170695Z"
    },
    "papermill": {
     "duration": 1.476911,
     "end_time": "2022-02-22T16:07:40.513263",
     "exception": false,
     "start_time": "2022-02-22T16:07:39.036352",
     "status": "completed"
    },
    "tags": []
   },
   "outputs": [],
   "source": [
    "import numpy as np\n",
    "import pandas as pd\n",
    "import matplotlib.pyplot as plt\n",
    "import seaborn as sns\n",
    "from sklearn.model_selection import train_test_split,GridSearchCV\n",
    "from sklearn.svm import SVC\n",
    "from sklearn import metrics\n",
    "from sklearn.datasets import load_iris\n",
    "%matplotlib inline\n",
    "from sklearn import svm\n",
    "from sklearn.model_selection import RandomizedSearchCV\n",
    "from sklearn.preprocessing import StandardScaler\n",
    "from sklearn.metrics import precision_score\n",
    "from sklearn.metrics import recall_score\n",
    "import warnings\n",
    "warnings.filterwarnings(action='ignore')"
   ]
  },
  {
   "cell_type": "markdown",
   "id": "35a74430",
   "metadata": {
    "papermill": {
     "duration": 0.055673,
     "end_time": "2022-02-22T16:07:40.625516",
     "exception": false,
     "start_time": "2022-02-22T16:07:40.569843",
     "status": "completed"
    },
    "tags": []
   },
   "source": [
    "# EDA \n",
    "### Reading the Data."
   ]
  },
  {
   "cell_type": "code",
   "execution_count": 2,
   "id": "bd58cb74",
   "metadata": {
    "execution": {
     "iopub.execute_input": "2022-02-22T16:07:40.746322Z",
     "iopub.status.busy": "2022-02-22T16:07:40.745661Z",
     "iopub.status.idle": "2022-02-22T16:07:40.832676Z",
     "shell.execute_reply": "2022-02-22T16:07:40.832104Z",
     "shell.execute_reply.started": "2021-12-16T19:57:58.730528Z"
    },
    "papermill": {
     "duration": 0.151159,
     "end_time": "2022-02-22T16:07:40.832861",
     "exception": false,
     "start_time": "2022-02-22T16:07:40.681702",
     "status": "completed"
    },
    "tags": []
   },
   "outputs": [],
   "source": [
    "df_train = pd.read_csv(\"/kaggle/input/predicting-pulsar-starintermediate/pulsar_data_train.csv\")\n",
    "\n",
    "df_test = pd.read_csv(\"/kaggle/input/predicting-pulsar-starintermediate/pulsar_data_test.csv\")"
   ]
  },
  {
   "cell_type": "code",
   "execution_count": 3,
   "id": "f992a118",
   "metadata": {
    "execution": {
     "iopub.execute_input": "2022-02-22T16:07:40.950638Z",
     "iopub.status.busy": "2022-02-22T16:07:40.950002Z",
     "iopub.status.idle": "2022-02-22T16:07:40.974329Z",
     "shell.execute_reply": "2022-02-22T16:07:40.974860Z",
     "shell.execute_reply.started": "2021-12-16T19:57:58.82035Z"
    },
    "papermill": {
     "duration": 0.084947,
     "end_time": "2022-02-22T16:07:40.975017",
     "exception": false,
     "start_time": "2022-02-22T16:07:40.890070",
     "status": "completed"
    },
    "tags": []
   },
   "outputs": [
    {
     "data": {
      "text/html": [
       "<div>\n",
       "<style scoped>\n",
       "    .dataframe tbody tr th:only-of-type {\n",
       "        vertical-align: middle;\n",
       "    }\n",
       "\n",
       "    .dataframe tbody tr th {\n",
       "        vertical-align: top;\n",
       "    }\n",
       "\n",
       "    .dataframe thead th {\n",
       "        text-align: right;\n",
       "    }\n",
       "</style>\n",
       "<table border=\"1\" class=\"dataframe\">\n",
       "  <thead>\n",
       "    <tr style=\"text-align: right;\">\n",
       "      <th></th>\n",
       "      <th>Mean of the integrated profile</th>\n",
       "      <th>Standard deviation of the integrated profile</th>\n",
       "      <th>Excess kurtosis of the integrated profile</th>\n",
       "      <th>Skewness of the integrated profile</th>\n",
       "      <th>Mean of the DM-SNR curve</th>\n",
       "      <th>Standard deviation of the DM-SNR curve</th>\n",
       "      <th>Excess kurtosis of the DM-SNR curve</th>\n",
       "      <th>Skewness of the DM-SNR curve</th>\n",
       "      <th>target_class</th>\n",
       "    </tr>\n",
       "  </thead>\n",
       "  <tbody>\n",
       "    <tr>\n",
       "      <th>0</th>\n",
       "      <td>121.156250</td>\n",
       "      <td>48.372971</td>\n",
       "      <td>0.375485</td>\n",
       "      <td>-0.013165</td>\n",
       "      <td>3.168896</td>\n",
       "      <td>18.399367</td>\n",
       "      <td>7.449874</td>\n",
       "      <td>65.159298</td>\n",
       "      <td>0.0</td>\n",
       "    </tr>\n",
       "    <tr>\n",
       "      <th>1</th>\n",
       "      <td>76.968750</td>\n",
       "      <td>36.175557</td>\n",
       "      <td>0.712898</td>\n",
       "      <td>3.388719</td>\n",
       "      <td>2.399666</td>\n",
       "      <td>17.570997</td>\n",
       "      <td>9.414652</td>\n",
       "      <td>102.722975</td>\n",
       "      <td>0.0</td>\n",
       "    </tr>\n",
       "    <tr>\n",
       "      <th>2</th>\n",
       "      <td>130.585938</td>\n",
       "      <td>53.229534</td>\n",
       "      <td>0.133408</td>\n",
       "      <td>-0.297242</td>\n",
       "      <td>2.743311</td>\n",
       "      <td>22.362553</td>\n",
       "      <td>8.508364</td>\n",
       "      <td>74.031324</td>\n",
       "      <td>0.0</td>\n",
       "    </tr>\n",
       "    <tr>\n",
       "      <th>3</th>\n",
       "      <td>156.398438</td>\n",
       "      <td>48.865942</td>\n",
       "      <td>-0.215989</td>\n",
       "      <td>-0.171294</td>\n",
       "      <td>17.471572</td>\n",
       "      <td>NaN</td>\n",
       "      <td>2.958066</td>\n",
       "      <td>7.197842</td>\n",
       "      <td>0.0</td>\n",
       "    </tr>\n",
       "    <tr>\n",
       "      <th>4</th>\n",
       "      <td>84.804688</td>\n",
       "      <td>36.117659</td>\n",
       "      <td>0.825013</td>\n",
       "      <td>3.274125</td>\n",
       "      <td>2.790134</td>\n",
       "      <td>20.618009</td>\n",
       "      <td>8.405008</td>\n",
       "      <td>76.291128</td>\n",
       "      <td>0.0</td>\n",
       "    </tr>\n",
       "  </tbody>\n",
       "</table>\n",
       "</div>"
      ],
      "text/plain": [
       "    Mean of the integrated profile  \\\n",
       "0                       121.156250   \n",
       "1                        76.968750   \n",
       "2                       130.585938   \n",
       "3                       156.398438   \n",
       "4                        84.804688   \n",
       "\n",
       "    Standard deviation of the integrated profile  \\\n",
       "0                                      48.372971   \n",
       "1                                      36.175557   \n",
       "2                                      53.229534   \n",
       "3                                      48.865942   \n",
       "4                                      36.117659   \n",
       "\n",
       "    Excess kurtosis of the integrated profile  \\\n",
       "0                                    0.375485   \n",
       "1                                    0.712898   \n",
       "2                                    0.133408   \n",
       "3                                   -0.215989   \n",
       "4                                    0.825013   \n",
       "\n",
       "    Skewness of the integrated profile   Mean of the DM-SNR curve  \\\n",
       "0                            -0.013165                   3.168896   \n",
       "1                             3.388719                   2.399666   \n",
       "2                            -0.297242                   2.743311   \n",
       "3                            -0.171294                  17.471572   \n",
       "4                             3.274125                   2.790134   \n",
       "\n",
       "    Standard deviation of the DM-SNR curve  \\\n",
       "0                                18.399367   \n",
       "1                                17.570997   \n",
       "2                                22.362553   \n",
       "3                                      NaN   \n",
       "4                                20.618009   \n",
       "\n",
       "    Excess kurtosis of the DM-SNR curve   Skewness of the DM-SNR curve  \\\n",
       "0                              7.449874                      65.159298   \n",
       "1                              9.414652                     102.722975   \n",
       "2                              8.508364                      74.031324   \n",
       "3                              2.958066                       7.197842   \n",
       "4                              8.405008                      76.291128   \n",
       "\n",
       "   target_class  \n",
       "0           0.0  \n",
       "1           0.0  \n",
       "2           0.0  \n",
       "3           0.0  \n",
       "4           0.0  "
      ]
     },
     "execution_count": 3,
     "metadata": {},
     "output_type": "execute_result"
    }
   ],
   "source": [
    "df_train.head()"
   ]
  },
  {
   "cell_type": "code",
   "execution_count": 4,
   "id": "7f0030f2",
   "metadata": {
    "execution": {
     "iopub.execute_input": "2022-02-22T16:07:41.164180Z",
     "iopub.status.busy": "2022-02-22T16:07:41.163565Z",
     "iopub.status.idle": "2022-02-22T16:07:41.174185Z",
     "shell.execute_reply": "2022-02-22T16:07:41.174655Z",
     "shell.execute_reply.started": "2021-12-16T19:57:58.851919Z"
    },
    "papermill": {
     "duration": 0.071222,
     "end_time": "2022-02-22T16:07:41.174834",
     "exception": false,
     "start_time": "2022-02-22T16:07:41.103612",
     "status": "completed"
    },
    "tags": []
   },
   "outputs": [
    {
     "data": {
      "text/html": [
       "<div>\n",
       "<style scoped>\n",
       "    .dataframe tbody tr th:only-of-type {\n",
       "        vertical-align: middle;\n",
       "    }\n",
       "\n",
       "    .dataframe tbody tr th {\n",
       "        vertical-align: top;\n",
       "    }\n",
       "\n",
       "    .dataframe thead th {\n",
       "        text-align: right;\n",
       "    }\n",
       "</style>\n",
       "<table border=\"1\" class=\"dataframe\">\n",
       "  <thead>\n",
       "    <tr style=\"text-align: right;\">\n",
       "      <th></th>\n",
       "      <th>Mean of the integrated profile</th>\n",
       "      <th>Standard deviation of the integrated profile</th>\n",
       "      <th>Excess kurtosis of the integrated profile</th>\n",
       "      <th>Skewness of the integrated profile</th>\n",
       "      <th>Mean of the DM-SNR curve</th>\n",
       "      <th>Standard deviation of the DM-SNR curve</th>\n",
       "      <th>Excess kurtosis of the DM-SNR curve</th>\n",
       "      <th>Skewness of the DM-SNR curve</th>\n",
       "      <th>target_class</th>\n",
       "    </tr>\n",
       "  </thead>\n",
       "  <tbody>\n",
       "    <tr>\n",
       "      <th>0</th>\n",
       "      <td>116.906250</td>\n",
       "      <td>48.920605</td>\n",
       "      <td>0.186046</td>\n",
       "      <td>-0.129815</td>\n",
       "      <td>3.037625</td>\n",
       "      <td>17.737102</td>\n",
       "      <td>8.122621</td>\n",
       "      <td>78.813405</td>\n",
       "      <td>NaN</td>\n",
       "    </tr>\n",
       "    <tr>\n",
       "      <th>1</th>\n",
       "      <td>75.585938</td>\n",
       "      <td>34.386254</td>\n",
       "      <td>2.025498</td>\n",
       "      <td>8.652913</td>\n",
       "      <td>3.765050</td>\n",
       "      <td>21.897049</td>\n",
       "      <td>7.048189</td>\n",
       "      <td>55.878791</td>\n",
       "      <td>NaN</td>\n",
       "    </tr>\n",
       "    <tr>\n",
       "      <th>2</th>\n",
       "      <td>103.273438</td>\n",
       "      <td>46.996628</td>\n",
       "      <td>0.504295</td>\n",
       "      <td>0.821088</td>\n",
       "      <td>2.244983</td>\n",
       "      <td>15.622566</td>\n",
       "      <td>9.330498</td>\n",
       "      <td>105.134941</td>\n",
       "      <td>NaN</td>\n",
       "    </tr>\n",
       "    <tr>\n",
       "      <th>3</th>\n",
       "      <td>101.078125</td>\n",
       "      <td>48.587487</td>\n",
       "      <td>1.011427</td>\n",
       "      <td>1.151870</td>\n",
       "      <td>81.887960</td>\n",
       "      <td>81.464136</td>\n",
       "      <td>0.485105</td>\n",
       "      <td>-1.117904</td>\n",
       "      <td>NaN</td>\n",
       "    </tr>\n",
       "    <tr>\n",
       "      <th>4</th>\n",
       "      <td>113.226562</td>\n",
       "      <td>48.608804</td>\n",
       "      <td>0.291538</td>\n",
       "      <td>0.292120</td>\n",
       "      <td>6.291806</td>\n",
       "      <td>26.585056</td>\n",
       "      <td>4.540138</td>\n",
       "      <td>21.708268</td>\n",
       "      <td>NaN</td>\n",
       "    </tr>\n",
       "  </tbody>\n",
       "</table>\n",
       "</div>"
      ],
      "text/plain": [
       "    Mean of the integrated profile  \\\n",
       "0                       116.906250   \n",
       "1                        75.585938   \n",
       "2                       103.273438   \n",
       "3                       101.078125   \n",
       "4                       113.226562   \n",
       "\n",
       "    Standard deviation of the integrated profile  \\\n",
       "0                                      48.920605   \n",
       "1                                      34.386254   \n",
       "2                                      46.996628   \n",
       "3                                      48.587487   \n",
       "4                                      48.608804   \n",
       "\n",
       "    Excess kurtosis of the integrated profile  \\\n",
       "0                                    0.186046   \n",
       "1                                    2.025498   \n",
       "2                                    0.504295   \n",
       "3                                    1.011427   \n",
       "4                                    0.291538   \n",
       "\n",
       "    Skewness of the integrated profile   Mean of the DM-SNR curve  \\\n",
       "0                            -0.129815                   3.037625   \n",
       "1                             8.652913                   3.765050   \n",
       "2                             0.821088                   2.244983   \n",
       "3                             1.151870                  81.887960   \n",
       "4                             0.292120                   6.291806   \n",
       "\n",
       "    Standard deviation of the DM-SNR curve  \\\n",
       "0                                17.737102   \n",
       "1                                21.897049   \n",
       "2                                15.622566   \n",
       "3                                81.464136   \n",
       "4                                26.585056   \n",
       "\n",
       "    Excess kurtosis of the DM-SNR curve   Skewness of the DM-SNR curve  \\\n",
       "0                              8.122621                      78.813405   \n",
       "1                              7.048189                      55.878791   \n",
       "2                              9.330498                     105.134941   \n",
       "3                              0.485105                      -1.117904   \n",
       "4                              4.540138                      21.708268   \n",
       "\n",
       "   target_class  \n",
       "0           NaN  \n",
       "1           NaN  \n",
       "2           NaN  \n",
       "3           NaN  \n",
       "4           NaN  "
      ]
     },
     "execution_count": 4,
     "metadata": {},
     "output_type": "execute_result"
    }
   ],
   "source": [
    "df_test.head()"
   ]
  },
  {
   "cell_type": "markdown",
   "id": "0a3d4aa8",
   "metadata": {
    "papermill": {
     "duration": 0.057928,
     "end_time": "2022-02-22T16:07:41.290641",
     "exception": false,
     "start_time": "2022-02-22T16:07:41.232713",
     "status": "completed"
    },
    "tags": []
   },
   "source": [
    "* as we can see the target is NAN in the test df so it will be predected.\n",
    "* we can change the name of columns to simplify."
   ]
  },
  {
   "cell_type": "code",
   "execution_count": 5,
   "id": "7edcb3fb",
   "metadata": {
    "execution": {
     "iopub.execute_input": "2022-02-22T16:07:41.410937Z",
     "iopub.status.busy": "2022-02-22T16:07:41.410261Z",
     "iopub.status.idle": "2022-02-22T16:07:41.413336Z",
     "shell.execute_reply": "2022-02-22T16:07:41.413902Z",
     "shell.execute_reply.started": "2021-12-16T19:57:58.873341Z"
    },
    "papermill": {
     "duration": 0.065177,
     "end_time": "2022-02-22T16:07:41.414067",
     "exception": false,
     "start_time": "2022-02-22T16:07:41.348890",
     "status": "completed"
    },
    "tags": []
   },
   "outputs": [],
   "source": [
    "df_train.columns = ['mean_profile', 'std_profile', 'kurtosis_profile', 'skewness_profile', 'mean_dmsnr',\n",
    "               'std_dmsnr', 'kurtosis_dmsnr', 'skewness_dmsnr', 'target']\n",
    "df_test.columns = ['mean_profile', 'std_profile', 'kurtosis_profile', 'skewness_profile', 'mean_dmsnr',\n",
    "               'std_dmsnr', 'kurtosis_dmsnr', 'skewness_dmsnr', 'target']"
   ]
  },
  {
   "cell_type": "markdown",
   "id": "e1fa65a6",
   "metadata": {
    "papermill": {
     "duration": 0.057943,
     "end_time": "2022-02-22T16:07:41.530613",
     "exception": false,
     "start_time": "2022-02-22T16:07:41.472670",
     "status": "completed"
    },
    "tags": []
   },
   "source": [
    "### Data shapes "
   ]
  },
  {
   "cell_type": "code",
   "execution_count": 6,
   "id": "27246c47",
   "metadata": {
    "execution": {
     "iopub.execute_input": "2022-02-22T16:07:41.649961Z",
     "iopub.status.busy": "2022-02-22T16:07:41.649342Z",
     "iopub.status.idle": "2022-02-22T16:07:41.653756Z",
     "shell.execute_reply": "2022-02-22T16:07:41.654261Z",
     "shell.execute_reply.started": "2021-12-16T19:57:58.885436Z"
    },
    "papermill": {
     "duration": 0.06547,
     "end_time": "2022-02-22T16:07:41.654403",
     "exception": false,
     "start_time": "2022-02-22T16:07:41.588933",
     "status": "completed"
    },
    "tags": []
   },
   "outputs": [
    {
     "data": {
      "text/plain": [
       "(12528, 9)"
      ]
     },
     "execution_count": 6,
     "metadata": {},
     "output_type": "execute_result"
    }
   ],
   "source": [
    "df_train.shape"
   ]
  },
  {
   "cell_type": "code",
   "execution_count": 7,
   "id": "e88945cf",
   "metadata": {
    "execution": {
     "iopub.execute_input": "2022-02-22T16:07:41.775997Z",
     "iopub.status.busy": "2022-02-22T16:07:41.775272Z",
     "iopub.status.idle": "2022-02-22T16:07:41.779813Z",
     "shell.execute_reply": "2022-02-22T16:07:41.780252Z",
     "shell.execute_reply.started": "2021-12-16T19:57:58.901098Z"
    },
    "papermill": {
     "duration": 0.067685,
     "end_time": "2022-02-22T16:07:41.780397",
     "exception": false,
     "start_time": "2022-02-22T16:07:41.712712",
     "status": "completed"
    },
    "tags": []
   },
   "outputs": [
    {
     "data": {
      "text/plain": [
       "(5370, 9)"
      ]
     },
     "execution_count": 7,
     "metadata": {},
     "output_type": "execute_result"
    }
   ],
   "source": [
    "df_test.shape"
   ]
  },
  {
   "cell_type": "markdown",
   "id": "2df583d8",
   "metadata": {
    "papermill": {
     "duration": 0.039347,
     "end_time": "2022-02-22T16:07:41.861121",
     "exception": false,
     "start_time": "2022-02-22T16:07:41.821774",
     "status": "completed"
    },
    "tags": []
   },
   "source": [
    "### Data informations and describtion"
   ]
  },
  {
   "cell_type": "code",
   "execution_count": 8,
   "id": "a228c63d",
   "metadata": {
    "execution": {
     "iopub.execute_input": "2022-02-22T16:07:41.940572Z",
     "iopub.status.busy": "2022-02-22T16:07:41.939945Z",
     "iopub.status.idle": "2022-02-22T16:07:41.959748Z",
     "shell.execute_reply": "2022-02-22T16:07:41.960148Z",
     "shell.execute_reply.started": "2021-12-16T19:57:58.918533Z"
    },
    "papermill": {
     "duration": 0.060404,
     "end_time": "2022-02-22T16:07:41.960270",
     "exception": false,
     "start_time": "2022-02-22T16:07:41.899866",
     "status": "completed"
    },
    "tags": []
   },
   "outputs": [
    {
     "name": "stdout",
     "output_type": "stream",
     "text": [
      "<class 'pandas.core.frame.DataFrame'>\n",
      "RangeIndex: 12528 entries, 0 to 12527\n",
      "Data columns (total 9 columns):\n",
      " #   Column            Non-Null Count  Dtype  \n",
      "---  ------            --------------  -----  \n",
      " 0   mean_profile      12528 non-null  float64\n",
      " 1   std_profile       12528 non-null  float64\n",
      " 2   kurtosis_profile  10793 non-null  float64\n",
      " 3   skewness_profile  12528 non-null  float64\n",
      " 4   mean_dmsnr        12528 non-null  float64\n",
      " 5   std_dmsnr         11350 non-null  float64\n",
      " 6   kurtosis_dmsnr    12528 non-null  float64\n",
      " 7   skewness_dmsnr    11903 non-null  float64\n",
      " 8   target            12528 non-null  float64\n",
      "dtypes: float64(9)\n",
      "memory usage: 881.0 KB\n"
     ]
    }
   ],
   "source": [
    "df_train.info()"
   ]
  },
  {
   "cell_type": "code",
   "execution_count": 9,
   "id": "fe35c422",
   "metadata": {
    "execution": {
     "iopub.execute_input": "2022-02-22T16:07:42.038638Z",
     "iopub.status.busy": "2022-02-22T16:07:42.038028Z",
     "iopub.status.idle": "2022-02-22T16:07:42.047029Z",
     "shell.execute_reply": "2022-02-22T16:07:42.047695Z",
     "shell.execute_reply.started": "2021-12-16T19:57:58.950128Z"
    },
    "papermill": {
     "duration": 0.049737,
     "end_time": "2022-02-22T16:07:42.047953",
     "exception": false,
     "start_time": "2022-02-22T16:07:41.998216",
     "status": "completed"
    },
    "tags": []
   },
   "outputs": [
    {
     "name": "stdout",
     "output_type": "stream",
     "text": [
      "<class 'pandas.core.frame.DataFrame'>\n",
      "RangeIndex: 5370 entries, 0 to 5369\n",
      "Data columns (total 9 columns):\n",
      " #   Column            Non-Null Count  Dtype  \n",
      "---  ------            --------------  -----  \n",
      " 0   mean_profile      5370 non-null   float64\n",
      " 1   std_profile       5370 non-null   float64\n",
      " 2   kurtosis_profile  4603 non-null   float64\n",
      " 3   skewness_profile  5370 non-null   float64\n",
      " 4   mean_dmsnr        5370 non-null   float64\n",
      " 5   std_dmsnr         4846 non-null   float64\n",
      " 6   kurtosis_dmsnr    5370 non-null   float64\n",
      " 7   skewness_dmsnr    5126 non-null   float64\n",
      " 8   target            0 non-null      float64\n",
      "dtypes: float64(9)\n",
      "memory usage: 377.7 KB\n"
     ]
    }
   ],
   "source": [
    "df_test.info()"
   ]
  },
  {
   "cell_type": "markdown",
   "id": "79dba39a",
   "metadata": {
    "papermill": {
     "duration": 0.037578,
     "end_time": "2022-02-22T16:07:42.123202",
     "exception": false,
     "start_time": "2022-02-22T16:07:42.085624",
     "status": "completed"
    },
    "tags": []
   },
   "source": [
    "there are NAN in \"kurtosis_profile\" , \"std_dmsnr\" , \"skewness_dmsnr\""
   ]
  },
  {
   "cell_type": "code",
   "execution_count": 10,
   "id": "51ea322f",
   "metadata": {
    "execution": {
     "iopub.execute_input": "2022-02-22T16:07:42.201740Z",
     "iopub.status.busy": "2022-02-22T16:07:42.201134Z",
     "iopub.status.idle": "2022-02-22T16:07:42.238660Z",
     "shell.execute_reply": "2022-02-22T16:07:42.239032Z",
     "shell.execute_reply.started": "2021-12-16T19:57:58.967815Z"
    },
    "papermill": {
     "duration": 0.078162,
     "end_time": "2022-02-22T16:07:42.239157",
     "exception": false,
     "start_time": "2022-02-22T16:07:42.160995",
     "status": "completed"
    },
    "tags": []
   },
   "outputs": [
    {
     "data": {
      "text/html": [
       "<div>\n",
       "<style scoped>\n",
       "    .dataframe tbody tr th:only-of-type {\n",
       "        vertical-align: middle;\n",
       "    }\n",
       "\n",
       "    .dataframe tbody tr th {\n",
       "        vertical-align: top;\n",
       "    }\n",
       "\n",
       "    .dataframe thead th {\n",
       "        text-align: right;\n",
       "    }\n",
       "</style>\n",
       "<table border=\"1\" class=\"dataframe\">\n",
       "  <thead>\n",
       "    <tr style=\"text-align: right;\">\n",
       "      <th></th>\n",
       "      <th>mean_profile</th>\n",
       "      <th>std_profile</th>\n",
       "      <th>kurtosis_profile</th>\n",
       "      <th>skewness_profile</th>\n",
       "      <th>mean_dmsnr</th>\n",
       "      <th>std_dmsnr</th>\n",
       "      <th>kurtosis_dmsnr</th>\n",
       "      <th>skewness_dmsnr</th>\n",
       "      <th>target</th>\n",
       "    </tr>\n",
       "  </thead>\n",
       "  <tbody>\n",
       "    <tr>\n",
       "      <th>count</th>\n",
       "      <td>12528.000000</td>\n",
       "      <td>12528.000000</td>\n",
       "      <td>10793.000000</td>\n",
       "      <td>12528.000000</td>\n",
       "      <td>12528.000000</td>\n",
       "      <td>11350.000000</td>\n",
       "      <td>12528.000000</td>\n",
       "      <td>11903.000000</td>\n",
       "      <td>12528.000000</td>\n",
       "    </tr>\n",
       "    <tr>\n",
       "      <th>mean</th>\n",
       "      <td>111.041841</td>\n",
       "      <td>46.521437</td>\n",
       "      <td>0.478548</td>\n",
       "      <td>1.778431</td>\n",
       "      <td>12.674758</td>\n",
       "      <td>26.351318</td>\n",
       "      <td>8.333489</td>\n",
       "      <td>105.525779</td>\n",
       "      <td>0.092034</td>\n",
       "    </tr>\n",
       "    <tr>\n",
       "      <th>std</th>\n",
       "      <td>25.672828</td>\n",
       "      <td>6.801077</td>\n",
       "      <td>1.064708</td>\n",
       "      <td>6.208450</td>\n",
       "      <td>29.613230</td>\n",
       "      <td>19.610842</td>\n",
       "      <td>4.535783</td>\n",
       "      <td>107.399585</td>\n",
       "      <td>0.289085</td>\n",
       "    </tr>\n",
       "    <tr>\n",
       "      <th>min</th>\n",
       "      <td>5.812500</td>\n",
       "      <td>24.772042</td>\n",
       "      <td>-1.738021</td>\n",
       "      <td>-1.791886</td>\n",
       "      <td>0.213211</td>\n",
       "      <td>7.370432</td>\n",
       "      <td>-3.139270</td>\n",
       "      <td>-1.976976</td>\n",
       "      <td>0.000000</td>\n",
       "    </tr>\n",
       "    <tr>\n",
       "      <th>25%</th>\n",
       "      <td>100.871094</td>\n",
       "      <td>42.362222</td>\n",
       "      <td>0.024652</td>\n",
       "      <td>-0.188142</td>\n",
       "      <td>1.910535</td>\n",
       "      <td>14.404353</td>\n",
       "      <td>5.803063</td>\n",
       "      <td>35.199899</td>\n",
       "      <td>0.000000</td>\n",
       "    </tr>\n",
       "    <tr>\n",
       "      <th>50%</th>\n",
       "      <td>115.183594</td>\n",
       "      <td>46.931022</td>\n",
       "      <td>0.223678</td>\n",
       "      <td>0.203317</td>\n",
       "      <td>2.792642</td>\n",
       "      <td>18.412402</td>\n",
       "      <td>8.451097</td>\n",
       "      <td>83.126301</td>\n",
       "      <td>0.000000</td>\n",
       "    </tr>\n",
       "    <tr>\n",
       "      <th>75%</th>\n",
       "      <td>127.109375</td>\n",
       "      <td>50.979103</td>\n",
       "      <td>0.473125</td>\n",
       "      <td>0.932374</td>\n",
       "      <td>5.413253</td>\n",
       "      <td>28.337418</td>\n",
       "      <td>10.727927</td>\n",
       "      <td>139.997850</td>\n",
       "      <td>0.000000</td>\n",
       "    </tr>\n",
       "    <tr>\n",
       "      <th>max</th>\n",
       "      <td>189.734375</td>\n",
       "      <td>91.808628</td>\n",
       "      <td>8.069522</td>\n",
       "      <td>68.101622</td>\n",
       "      <td>222.421405</td>\n",
       "      <td>110.642211</td>\n",
       "      <td>34.539844</td>\n",
       "      <td>1191.000837</td>\n",
       "      <td>1.000000</td>\n",
       "    </tr>\n",
       "  </tbody>\n",
       "</table>\n",
       "</div>"
      ],
      "text/plain": [
       "       mean_profile   std_profile  kurtosis_profile  skewness_profile  \\\n",
       "count  12528.000000  12528.000000      10793.000000      12528.000000   \n",
       "mean     111.041841     46.521437          0.478548          1.778431   \n",
       "std       25.672828      6.801077          1.064708          6.208450   \n",
       "min        5.812500     24.772042         -1.738021         -1.791886   \n",
       "25%      100.871094     42.362222          0.024652         -0.188142   \n",
       "50%      115.183594     46.931022          0.223678          0.203317   \n",
       "75%      127.109375     50.979103          0.473125          0.932374   \n",
       "max      189.734375     91.808628          8.069522         68.101622   \n",
       "\n",
       "         mean_dmsnr     std_dmsnr  kurtosis_dmsnr  skewness_dmsnr  \\\n",
       "count  12528.000000  11350.000000    12528.000000    11903.000000   \n",
       "mean      12.674758     26.351318        8.333489      105.525779   \n",
       "std       29.613230     19.610842        4.535783      107.399585   \n",
       "min        0.213211      7.370432       -3.139270       -1.976976   \n",
       "25%        1.910535     14.404353        5.803063       35.199899   \n",
       "50%        2.792642     18.412402        8.451097       83.126301   \n",
       "75%        5.413253     28.337418       10.727927      139.997850   \n",
       "max      222.421405    110.642211       34.539844     1191.000837   \n",
       "\n",
       "             target  \n",
       "count  12528.000000  \n",
       "mean       0.092034  \n",
       "std        0.289085  \n",
       "min        0.000000  \n",
       "25%        0.000000  \n",
       "50%        0.000000  \n",
       "75%        0.000000  \n",
       "max        1.000000  "
      ]
     },
     "execution_count": 10,
     "metadata": {},
     "output_type": "execute_result"
    }
   ],
   "source": [
    "df_train.describe()"
   ]
  },
  {
   "cell_type": "code",
   "execution_count": 11,
   "id": "4f999040",
   "metadata": {
    "execution": {
     "iopub.execute_input": "2022-02-22T16:07:42.323293Z",
     "iopub.status.busy": "2022-02-22T16:07:42.322820Z",
     "iopub.status.idle": "2022-02-22T16:07:42.355534Z",
     "shell.execute_reply": "2022-02-22T16:07:42.356007Z",
     "shell.execute_reply.started": "2021-12-16T19:57:59.018923Z"
    },
    "papermill": {
     "duration": 0.07868,
     "end_time": "2022-02-22T16:07:42.356143",
     "exception": false,
     "start_time": "2022-02-22T16:07:42.277463",
     "status": "completed"
    },
    "tags": []
   },
   "outputs": [
    {
     "data": {
      "text/html": [
       "<div>\n",
       "<style scoped>\n",
       "    .dataframe tbody tr th:only-of-type {\n",
       "        vertical-align: middle;\n",
       "    }\n",
       "\n",
       "    .dataframe tbody tr th {\n",
       "        vertical-align: top;\n",
       "    }\n",
       "\n",
       "    .dataframe thead th {\n",
       "        text-align: right;\n",
       "    }\n",
       "</style>\n",
       "<table border=\"1\" class=\"dataframe\">\n",
       "  <thead>\n",
       "    <tr style=\"text-align: right;\">\n",
       "      <th></th>\n",
       "      <th>mean_profile</th>\n",
       "      <th>std_profile</th>\n",
       "      <th>kurtosis_profile</th>\n",
       "      <th>skewness_profile</th>\n",
       "      <th>mean_dmsnr</th>\n",
       "      <th>std_dmsnr</th>\n",
       "      <th>kurtosis_dmsnr</th>\n",
       "      <th>skewness_dmsnr</th>\n",
       "      <th>target</th>\n",
       "    </tr>\n",
       "  </thead>\n",
       "  <tbody>\n",
       "    <tr>\n",
       "      <th>count</th>\n",
       "      <td>5370.000000</td>\n",
       "      <td>5370.000000</td>\n",
       "      <td>4603.000000</td>\n",
       "      <td>5370.000000</td>\n",
       "      <td>5370.000000</td>\n",
       "      <td>4846.000000</td>\n",
       "      <td>5370.000000</td>\n",
       "      <td>5126.000000</td>\n",
       "      <td>0.0</td>\n",
       "    </tr>\n",
       "    <tr>\n",
       "      <th>mean</th>\n",
       "      <td>111.168917</td>\n",
       "      <td>46.615074</td>\n",
       "      <td>0.483676</td>\n",
       "      <td>1.751260</td>\n",
       "      <td>12.473587</td>\n",
       "      <td>26.425371</td>\n",
       "      <td>8.233724</td>\n",
       "      <td>102.869088</td>\n",
       "      <td>NaN</td>\n",
       "    </tr>\n",
       "    <tr>\n",
       "      <th>std</th>\n",
       "      <td>25.608635</td>\n",
       "      <td>6.940638</td>\n",
       "      <td>1.076893</td>\n",
       "      <td>6.072820</td>\n",
       "      <td>29.145134</td>\n",
       "      <td>19.384489</td>\n",
       "      <td>4.435683</td>\n",
       "      <td>104.748418</td>\n",
       "      <td>NaN</td>\n",
       "    </tr>\n",
       "    <tr>\n",
       "      <th>min</th>\n",
       "      <td>6.179688</td>\n",
       "      <td>24.791612</td>\n",
       "      <td>-1.876011</td>\n",
       "      <td>-1.764717</td>\n",
       "      <td>0.213211</td>\n",
       "      <td>7.370432</td>\n",
       "      <td>-2.721857</td>\n",
       "      <td>-1.964998</td>\n",
       "      <td>NaN</td>\n",
       "    </tr>\n",
       "    <tr>\n",
       "      <th>25%</th>\n",
       "      <td>101.041016</td>\n",
       "      <td>42.408020</td>\n",
       "      <td>0.030643</td>\n",
       "      <td>-0.189557</td>\n",
       "      <td>1.956522</td>\n",
       "      <td>14.555826</td>\n",
       "      <td>5.700461</td>\n",
       "      <td>33.817330</td>\n",
       "      <td>NaN</td>\n",
       "    </tr>\n",
       "    <tr>\n",
       "      <th>50%</th>\n",
       "      <td>114.757812</td>\n",
       "      <td>47.031304</td>\n",
       "      <td>0.227314</td>\n",
       "      <td>0.186468</td>\n",
       "      <td>2.830686</td>\n",
       "      <td>18.549670</td>\n",
       "      <td>8.383695</td>\n",
       "      <td>81.392046</td>\n",
       "      <td>NaN</td>\n",
       "    </tr>\n",
       "    <tr>\n",
       "      <th>75%</th>\n",
       "      <td>127.023438</td>\n",
       "      <td>51.133444</td>\n",
       "      <td>0.475056</td>\n",
       "      <td>0.918807</td>\n",
       "      <td>5.590301</td>\n",
       "      <td>28.681787</td>\n",
       "      <td>10.632265</td>\n",
       "      <td>136.893502</td>\n",
       "      <td>NaN</td>\n",
       "    </tr>\n",
       "    <tr>\n",
       "      <th>max</th>\n",
       "      <td>192.617188</td>\n",
       "      <td>98.778911</td>\n",
       "      <td>7.608370</td>\n",
       "      <td>65.385974</td>\n",
       "      <td>223.392141</td>\n",
       "      <td>109.712649</td>\n",
       "      <td>34.539844</td>\n",
       "      <td>1191.000837</td>\n",
       "      <td>NaN</td>\n",
       "    </tr>\n",
       "  </tbody>\n",
       "</table>\n",
       "</div>"
      ],
      "text/plain": [
       "       mean_profile  std_profile  kurtosis_profile  skewness_profile  \\\n",
       "count   5370.000000  5370.000000       4603.000000       5370.000000   \n",
       "mean     111.168917    46.615074          0.483676          1.751260   \n",
       "std       25.608635     6.940638          1.076893          6.072820   \n",
       "min        6.179688    24.791612         -1.876011         -1.764717   \n",
       "25%      101.041016    42.408020          0.030643         -0.189557   \n",
       "50%      114.757812    47.031304          0.227314          0.186468   \n",
       "75%      127.023438    51.133444          0.475056          0.918807   \n",
       "max      192.617188    98.778911          7.608370         65.385974   \n",
       "\n",
       "        mean_dmsnr    std_dmsnr  kurtosis_dmsnr  skewness_dmsnr  target  \n",
       "count  5370.000000  4846.000000     5370.000000     5126.000000     0.0  \n",
       "mean     12.473587    26.425371        8.233724      102.869088     NaN  \n",
       "std      29.145134    19.384489        4.435683      104.748418     NaN  \n",
       "min       0.213211     7.370432       -2.721857       -1.964998     NaN  \n",
       "25%       1.956522    14.555826        5.700461       33.817330     NaN  \n",
       "50%       2.830686    18.549670        8.383695       81.392046     NaN  \n",
       "75%       5.590301    28.681787       10.632265      136.893502     NaN  \n",
       "max     223.392141   109.712649       34.539844     1191.000837     NaN  "
      ]
     },
     "execution_count": 11,
     "metadata": {},
     "output_type": "execute_result"
    }
   ],
   "source": [
    "df_test.describe()"
   ]
  },
  {
   "cell_type": "code",
   "execution_count": 12,
   "id": "b2653bbb",
   "metadata": {
    "execution": {
     "iopub.execute_input": "2022-02-22T16:07:42.438613Z",
     "iopub.status.busy": "2022-02-22T16:07:42.438143Z",
     "iopub.status.idle": "2022-02-22T16:07:42.446244Z",
     "shell.execute_reply": "2022-02-22T16:07:42.446707Z",
     "shell.execute_reply.started": "2021-12-16T19:57:59.065162Z"
    },
    "papermill": {
     "duration": 0.050878,
     "end_time": "2022-02-22T16:07:42.446857",
     "exception": false,
     "start_time": "2022-02-22T16:07:42.395979",
     "status": "completed"
    },
    "tags": []
   },
   "outputs": [
    {
     "data": {
      "text/plain": [
       "0.0    11375\n",
       "1.0     1153\n",
       "Name: target, dtype: int64"
      ]
     },
     "execution_count": 12,
     "metadata": {},
     "output_type": "execute_result"
    }
   ],
   "source": [
    "df_train['target'].value_counts()"
   ]
  },
  {
   "cell_type": "code",
   "execution_count": 13,
   "id": "3f878da6",
   "metadata": {
    "execution": {
     "iopub.execute_input": "2022-02-22T16:07:42.529206Z",
     "iopub.status.busy": "2022-02-22T16:07:42.528700Z",
     "iopub.status.idle": "2022-02-22T16:07:42.665402Z",
     "shell.execute_reply": "2022-02-22T16:07:42.665987Z",
     "shell.execute_reply.started": "2021-12-16T19:57:59.076298Z"
    },
    "papermill": {
     "duration": 0.179571,
     "end_time": "2022-02-22T16:07:42.666155",
     "exception": false,
     "start_time": "2022-02-22T16:07:42.486584",
     "status": "completed"
    },
    "tags": []
   },
   "outputs": [
    {
     "data": {
      "text/plain": [
       "<AxesSubplot:xlabel='target', ylabel='count'>"
      ]
     },
     "execution_count": 13,
     "metadata": {},
     "output_type": "execute_result"
    },
    {
     "data": {
      "image/png": "[encoded data removed]",
      "text/plain": [
       "<Figure size 432x288 with 1 Axes>"
      ]
     },
     "metadata": {
      "needs_background": "light"
     },
     "output_type": "display_data"
    }
   ],
   "source": [
    "sns.countplot(df_train.target)"
   ]
  },
  {
   "cell_type": "code",
   "execution_count": 14,
   "id": "59214e84",
   "metadata": {
    "execution": {
     "iopub.execute_input": "2022-02-22T16:07:42.760821Z",
     "iopub.status.busy": "2022-02-22T16:07:42.760330Z",
     "iopub.status.idle": "2022-02-22T16:07:43.353687Z",
     "shell.execute_reply": "2022-02-22T16:07:43.353191Z",
     "shell.execute_reply.started": "2021-12-16T19:57:59.309569Z"
    },
    "papermill": {
     "duration": 0.637061,
     "end_time": "2022-02-22T16:07:43.353815",
     "exception": false,
     "start_time": "2022-02-22T16:07:42.716754",
     "status": "completed"
    },
    "tags": []
   },
   "outputs": [
    {
     "data": {
      "text/plain": [
       "<AxesSubplot:>"
      ]
     },
     "execution_count": 14,
     "metadata": {},
     "output_type": "execute_result"
    },
    {
     "data": {
      "image/png": "[encoded data removed]",
      "text/plain": [
       "<Figure size 864x576 with 2 Axes>"
      ]
     },
     "metadata": {
      "needs_background": "light"
     },
     "output_type": "display_data"
    }
   ],
   "source": [
    "plt.figure(figsize=(12,8))\n",
    "sns.heatmap( df_train.corr(), annot = True ,mask=np.triu(df_train.corr(),+1))"
   ]
  },
  {
   "cell_type": "code",
   "execution_count": 15,
   "id": "5f498a3b",
   "metadata": {
    "execution": {
     "iopub.execute_input": "2022-02-22T16:07:43.447531Z",
     "iopub.status.busy": "2022-02-22T16:07:43.446926Z",
     "iopub.status.idle": "2022-02-22T16:07:43.450937Z",
     "shell.execute_reply": "2022-02-22T16:07:43.450433Z",
     "shell.execute_reply.started": "2021-12-16T19:57:59.993239Z"
    },
    "papermill": {
     "duration": 0.053344,
     "end_time": "2022-02-22T16:07:43.451044",
     "exception": false,
     "start_time": "2022-02-22T16:07:43.397700",
     "status": "completed"
    },
    "tags": []
   },
   "outputs": [
    {
     "data": {
      "text/plain": [
       "Index(['mean_profile', 'std_profile', 'kurtosis_profile', 'skewness_profile',\n",
       "       'mean_dmsnr', 'std_dmsnr', 'kurtosis_dmsnr', 'skewness_dmsnr',\n",
       "       'target'],\n",
       "      dtype='object')"
      ]
     },
     "execution_count": 15,
     "metadata": {},
     "output_type": "execute_result"
    }
   ],
   "source": [
    "df_train.columns"
   ]
  },
  {
   "cell_type": "markdown",
   "id": "3ad1bbf9",
   "metadata": {
    "papermill": {
     "duration": 0.042843,
     "end_time": "2022-02-22T16:07:43.537224",
     "exception": false,
     "start_time": "2022-02-22T16:07:43.494381",
     "status": "completed"
    },
    "tags": []
   },
   "source": [
    "#### Correlations between two independent variables\n",
    "\n",
    "There is Highly positively correlated:\n",
    "\n",
    "* skewness_profile and kurtosis_dmsnr\n",
    "* skewness_dmsnr and kurtosis_dmsnr\n",
    "* mean_dmsnr and std_dmsnr\n",
    "\n",
    "There is Highly negatively correlated:\n",
    "\n",
    "* mean_profile and kurtosis_profile\n",
    "* mean_profile and skewness_profile\n",
    "* kurtosis_dmsnr and std_dmsnr\n",
    "\n",
    "#### Correlations between independent and dependent variable\n",
    "\n",
    "* kurtosis_profile and skewness_profile have a high positive correlation with target .\n",
    "* mean_profile has high negative correlation with target."
   ]
  },
  {
   "cell_type": "markdown",
   "id": "5dfe83a0",
   "metadata": {
    "papermill": {
     "duration": 0.043158,
     "end_time": "2022-02-22T16:07:43.623895",
     "exception": false,
     "start_time": "2022-02-22T16:07:43.580737",
     "status": "completed"
    },
    "tags": []
   },
   "source": [
    "### Distribution of Data"
   ]
  },
  {
   "cell_type": "code",
   "execution_count": 16,
   "id": "9a7c407b",
   "metadata": {
    "execution": {
     "iopub.execute_input": "2022-02-22T16:07:43.718445Z",
     "iopub.status.busy": "2022-02-22T16:07:43.717953Z",
     "iopub.status.idle": "2022-02-22T16:07:48.261626Z",
     "shell.execute_reply": "2022-02-22T16:07:48.262177Z",
     "shell.execute_reply.started": "2021-12-16T19:58:00.001161Z"
    },
    "papermill": {
     "duration": 4.595904,
     "end_time": "2022-02-22T16:07:48.262346",
     "exception": false,
     "start_time": "2022-02-22T16:07:43.666442",
     "status": "completed"
    },
    "tags": []
   },
   "outputs": [
    {
     "data": {
      "image/png": "[encoded data removed]",
      "text/plain": [
       "<Figure size 1080x2880 with 16 Axes>"
      ]
     },
     "metadata": {
      "needs_background": "light"
     },
     "output_type": "display_data"
    }
   ],
   "source": [
    "fig, axes = plt.subplots(nrows=8,ncols=2,  figsize=(15, 40))\n",
    "fig.subplots_adjust(hspace = .4, wspace=.2)\n",
    "for i in range(0,len(df_train.columns)-1):\n",
    "    sns.distplot(df_train[df_train.columns[i]], ax=axes[i][0]).set_title(\"Hisotogram of\" + df_train.columns[i])\n",
    "    sns.boxplot(df_train[df_train.columns[i]], ax=axes[i][1]).set_title(\"Boxplot of\" + df_train.columns[i])"
   ]
  },
  {
   "cell_type": "markdown",
   "id": "6333a548",
   "metadata": {
    "papermill": {
     "duration": 0.069684,
     "end_time": "2022-02-22T16:07:48.402352",
     "exception": false,
     "start_time": "2022-02-22T16:07:48.332668",
     "status": "completed"
    },
    "tags": []
   },
   "source": [
    "##### as we can see the data is not normally distributed. "
   ]
  },
  {
   "cell_type": "markdown",
   "id": "430b7b54",
   "metadata": {
    "papermill": {
     "duration": 0.068769,
     "end_time": "2022-02-22T16:07:48.541382",
     "exception": false,
     "start_time": "2022-02-22T16:07:48.472613",
     "status": "completed"
    },
    "tags": []
   },
   "source": [
    "# Data preprocessing"
   ]
  },
  {
   "cell_type": "markdown",
   "id": "c58df37b",
   "metadata": {
    "papermill": {
     "duration": 0.069098,
     "end_time": "2022-02-22T16:07:48.679764",
     "exception": false,
     "start_time": "2022-02-22T16:07:48.610666",
     "status": "completed"
    },
    "tags": []
   },
   "source": [
    "### Dealing with missing data"
   ]
  },
  {
   "cell_type": "code",
   "execution_count": 17,
   "id": "7e00632c",
   "metadata": {
    "execution": {
     "iopub.execute_input": "2022-02-22T16:07:48.823768Z",
     "iopub.status.busy": "2022-02-22T16:07:48.823108Z",
     "iopub.status.idle": "2022-02-22T16:07:48.827172Z",
     "shell.execute_reply": "2022-02-22T16:07:48.827764Z",
     "shell.execute_reply.started": "2021-12-16T19:58:04.614348Z"
    },
    "papermill": {
     "duration": 0.078719,
     "end_time": "2022-02-22T16:07:48.827945",
     "exception": false,
     "start_time": "2022-02-22T16:07:48.749226",
     "status": "completed"
    },
    "tags": []
   },
   "outputs": [
    {
     "data": {
      "text/plain": [
       "mean_profile           0\n",
       "std_profile            0\n",
       "kurtosis_profile    1735\n",
       "skewness_profile       0\n",
       "mean_dmsnr             0\n",
       "std_dmsnr           1178\n",
       "kurtosis_dmsnr         0\n",
       "skewness_dmsnr       625\n",
       "target                 0\n",
       "dtype: int64"
      ]
     },
     "execution_count": 17,
     "metadata": {},
     "output_type": "execute_result"
    }
   ],
   "source": [
    "df_train.isnull().sum()"
   ]
  },
  {
   "cell_type": "code",
   "execution_count": 18,
   "id": "37653da1",
   "metadata": {
    "execution": {
     "iopub.execute_input": "2022-02-22T16:07:48.970015Z",
     "iopub.status.busy": "2022-02-22T16:07:48.969328Z",
     "iopub.status.idle": "2022-02-22T16:07:48.973730Z",
     "shell.execute_reply": "2022-02-22T16:07:48.973298Z",
     "shell.execute_reply.started": "2021-12-16T19:58:04.624954Z"
    },
    "papermill": {
     "duration": 0.076557,
     "end_time": "2022-02-22T16:07:48.973875",
     "exception": false,
     "start_time": "2022-02-22T16:07:48.897318",
     "status": "completed"
    },
    "tags": []
   },
   "outputs": [],
   "source": [
    "df_train_copy = df_train.copy()"
   ]
  },
  {
   "cell_type": "code",
   "execution_count": 19,
   "id": "bfcec477",
   "metadata": {
    "execution": {
     "iopub.execute_input": "2022-02-22T16:07:49.069758Z",
     "iopub.status.busy": "2022-02-22T16:07:49.069097Z",
     "iopub.status.idle": "2022-02-22T16:07:49.081482Z",
     "shell.execute_reply": "2022-02-22T16:07:49.080954Z",
     "shell.execute_reply.started": "2021-12-16T19:58:04.636688Z"
    },
    "papermill": {
     "duration": 0.060823,
     "end_time": "2022-02-22T16:07:49.081597",
     "exception": false,
     "start_time": "2022-02-22T16:07:49.020774",
     "status": "completed"
    },
    "tags": []
   },
   "outputs": [],
   "source": [
    "fill_list = df_train['kurtosis_profile']\n",
    "df_train['kurtosis_profile'] = df_train['kurtosis_profile'].fillna(pd.Series(np.random.choice(fill_list , size = len(df_train.index))))\n",
    "fill_list = df_train['std_dmsnr']\n",
    "df_train['std_dmsnr'] = df_train['std_dmsnr'].fillna(pd.Series(np.random.choice(fill_list , size = len(df_train.index))))\n",
    "fill_list = df_train['skewness_dmsnr']\n",
    "df_train['skewness_dmsnr'] = df_train['skewness_dmsnr'].fillna(pd.Series(np.random.choice(fill_list , size = len(df_train.index))))"
   ]
  },
  {
   "cell_type": "code",
   "execution_count": 20,
   "id": "c1b79ec7",
   "metadata": {
    "execution": {
     "iopub.execute_input": "2022-02-22T16:07:49.183417Z",
     "iopub.status.busy": "2022-02-22T16:07:49.182742Z",
     "iopub.status.idle": "2022-02-22T16:07:49.189119Z",
     "shell.execute_reply": "2022-02-22T16:07:49.189551Z",
     "shell.execute_reply.started": "2021-12-16T19:58:04.657583Z"
    },
    "papermill": {
     "duration": 0.061145,
     "end_time": "2022-02-22T16:07:49.189695",
     "exception": false,
     "start_time": "2022-02-22T16:07:49.128550",
     "status": "completed"
    },
    "tags": []
   },
   "outputs": [
    {
     "data": {
      "text/plain": [
       "mean_profile          0\n",
       "std_profile           0\n",
       "kurtosis_profile    244\n",
       "skewness_profile      0\n",
       "mean_dmsnr            0\n",
       "std_dmsnr           109\n",
       "kurtosis_dmsnr        0\n",
       "skewness_dmsnr       30\n",
       "target                0\n",
       "dtype: int64"
      ]
     },
     "execution_count": 20,
     "metadata": {},
     "output_type": "execute_result"
    }
   ],
   "source": [
    "df_train.isnull().sum()"
   ]
  },
  {
   "cell_type": "code",
   "execution_count": 21,
   "id": "890f5f0a",
   "metadata": {
    "execution": {
     "iopub.execute_input": "2022-02-22T16:07:49.301280Z",
     "iopub.status.busy": "2022-02-22T16:07:49.300576Z",
     "iopub.status.idle": "2022-02-22T16:07:49.307259Z",
     "shell.execute_reply": "2022-02-22T16:07:49.306670Z",
     "shell.execute_reply.started": "2021-12-16T19:58:04.676339Z"
    },
    "papermill": {
     "duration": 0.060084,
     "end_time": "2022-02-22T16:07:49.307402",
     "exception": false,
     "start_time": "2022-02-22T16:07:49.247318",
     "status": "completed"
    },
    "tags": []
   },
   "outputs": [],
   "source": [
    "df_train.dropna(inplace=True)"
   ]
  },
  {
   "cell_type": "code",
   "execution_count": 22,
   "id": "2c86de3e",
   "metadata": {
    "execution": {
     "iopub.execute_input": "2022-02-22T16:07:49.451236Z",
     "iopub.status.busy": "2022-02-22T16:07:49.450586Z",
     "iopub.status.idle": "2022-02-22T16:07:49.455754Z",
     "shell.execute_reply": "2022-02-22T16:07:49.455190Z",
     "shell.execute_reply.started": "2021-12-16T19:58:04.688435Z"
    },
    "papermill": {
     "duration": 0.078437,
     "end_time": "2022-02-22T16:07:49.455903",
     "exception": false,
     "start_time": "2022-02-22T16:07:49.377466",
     "status": "completed"
    },
    "tags": []
   },
   "outputs": [
    {
     "data": {
      "text/plain": [
       "mean_profile        0\n",
       "std_profile         0\n",
       "kurtosis_profile    0\n",
       "skewness_profile    0\n",
       "mean_dmsnr          0\n",
       "std_dmsnr           0\n",
       "kurtosis_dmsnr      0\n",
       "skewness_dmsnr      0\n",
       "target              0\n",
       "dtype: int64"
      ]
     },
     "execution_count": 22,
     "metadata": {},
     "output_type": "execute_result"
    }
   ],
   "source": [
    "df_train.isnull().sum()"
   ]
  },
  {
   "cell_type": "code",
   "execution_count": 23,
   "id": "2ac87853",
   "metadata": {
    "execution": {
     "iopub.execute_input": "2022-02-22T16:07:49.602604Z",
     "iopub.status.busy": "2022-02-22T16:07:49.602014Z",
     "iopub.status.idle": "2022-02-22T16:07:49.628258Z",
     "shell.execute_reply": "2022-02-22T16:07:49.628721Z",
     "shell.execute_reply.started": "2021-12-16T19:58:04.701492Z"
    },
    "papermill": {
     "duration": 0.102591,
     "end_time": "2022-02-22T16:07:49.628869",
     "exception": false,
     "start_time": "2022-02-22T16:07:49.526278",
     "status": "completed"
    },
    "tags": []
   },
   "outputs": [
    {
     "data": {
      "text/html": [
       "<div>\n",
       "<style scoped>\n",
       "    .dataframe tbody tr th:only-of-type {\n",
       "        vertical-align: middle;\n",
       "    }\n",
       "\n",
       "    .dataframe tbody tr th {\n",
       "        vertical-align: top;\n",
       "    }\n",
       "\n",
       "    .dataframe thead th {\n",
       "        text-align: right;\n",
       "    }\n",
       "</style>\n",
       "<table border=\"1\" class=\"dataframe\">\n",
       "  <thead>\n",
       "    <tr style=\"text-align: right;\">\n",
       "      <th></th>\n",
       "      <th>mean_profile</th>\n",
       "      <th>std_profile</th>\n",
       "      <th>kurtosis_profile</th>\n",
       "      <th>skewness_profile</th>\n",
       "      <th>mean_dmsnr</th>\n",
       "      <th>std_dmsnr</th>\n",
       "      <th>kurtosis_dmsnr</th>\n",
       "      <th>skewness_dmsnr</th>\n",
       "      <th>target</th>\n",
       "    </tr>\n",
       "  </thead>\n",
       "  <tbody>\n",
       "    <tr>\n",
       "      <th>count</th>\n",
       "      <td>12149.000000</td>\n",
       "      <td>12149.000000</td>\n",
       "      <td>12149.000000</td>\n",
       "      <td>12149.000000</td>\n",
       "      <td>12149.000000</td>\n",
       "      <td>12149.000000</td>\n",
       "      <td>12149.000000</td>\n",
       "      <td>12149.000000</td>\n",
       "      <td>12149.000000</td>\n",
       "    </tr>\n",
       "    <tr>\n",
       "      <th>mean</th>\n",
       "      <td>111.057357</td>\n",
       "      <td>46.525255</td>\n",
       "      <td>0.483031</td>\n",
       "      <td>1.778405</td>\n",
       "      <td>12.719273</td>\n",
       "      <td>26.379299</td>\n",
       "      <td>8.320956</td>\n",
       "      <td>105.681697</td>\n",
       "      <td>0.091695</td>\n",
       "    </tr>\n",
       "    <tr>\n",
       "      <th>std</th>\n",
       "      <td>25.671800</td>\n",
       "      <td>6.790011</td>\n",
       "      <td>1.074461</td>\n",
       "      <td>6.226109</td>\n",
       "      <td>29.689592</td>\n",
       "      <td>19.680378</td>\n",
       "      <td>4.537205</td>\n",
       "      <td>107.618544</td>\n",
       "      <td>0.288606</td>\n",
       "    </tr>\n",
       "    <tr>\n",
       "      <th>min</th>\n",
       "      <td>5.812500</td>\n",
       "      <td>24.772042</td>\n",
       "      <td>-1.738021</td>\n",
       "      <td>-1.791886</td>\n",
       "      <td>0.213211</td>\n",
       "      <td>7.370432</td>\n",
       "      <td>-3.139270</td>\n",
       "      <td>-1.976976</td>\n",
       "      <td>0.000000</td>\n",
       "    </tr>\n",
       "    <tr>\n",
       "      <th>25%</th>\n",
       "      <td>100.921875</td>\n",
       "      <td>42.362328</td>\n",
       "      <td>0.024982</td>\n",
       "      <td>-0.188870</td>\n",
       "      <td>1.913880</td>\n",
       "      <td>14.392332</td>\n",
       "      <td>5.786106</td>\n",
       "      <td>34.779827</td>\n",
       "      <td>0.000000</td>\n",
       "    </tr>\n",
       "    <tr>\n",
       "      <th>50%</th>\n",
       "      <td>115.140625</td>\n",
       "      <td>46.932379</td>\n",
       "      <td>0.224197</td>\n",
       "      <td>0.203875</td>\n",
       "      <td>2.795151</td>\n",
       "      <td>18.404455</td>\n",
       "      <td>8.439768</td>\n",
       "      <td>83.229201</td>\n",
       "      <td>0.000000</td>\n",
       "    </tr>\n",
       "    <tr>\n",
       "      <th>75%</th>\n",
       "      <td>127.109375</td>\n",
       "      <td>50.984255</td>\n",
       "      <td>0.473620</td>\n",
       "      <td>0.934925</td>\n",
       "      <td>5.450669</td>\n",
       "      <td>28.332757</td>\n",
       "      <td>10.720199</td>\n",
       "      <td>140.358896</td>\n",
       "      <td>0.000000</td>\n",
       "    </tr>\n",
       "    <tr>\n",
       "      <th>max</th>\n",
       "      <td>189.734375</td>\n",
       "      <td>91.808628</td>\n",
       "      <td>8.069522</td>\n",
       "      <td>68.101622</td>\n",
       "      <td>222.421405</td>\n",
       "      <td>110.642211</td>\n",
       "      <td>34.539844</td>\n",
       "      <td>1191.000837</td>\n",
       "      <td>1.000000</td>\n",
       "    </tr>\n",
       "  </tbody>\n",
       "</table>\n",
       "</div>"
      ],
      "text/plain": [
       "       mean_profile   std_profile  kurtosis_profile  skewness_profile  \\\n",
       "count  12149.000000  12149.000000      12149.000000      12149.000000   \n",
       "mean     111.057357     46.525255          0.483031          1.778405   \n",
       "std       25.671800      6.790011          1.074461          6.226109   \n",
       "min        5.812500     24.772042         -1.738021         -1.791886   \n",
       "25%      100.921875     42.362328          0.024982         -0.188870   \n",
       "50%      115.140625     46.932379          0.224197          0.203875   \n",
       "75%      127.109375     50.984255          0.473620          0.934925   \n",
       "max      189.734375     91.808628          8.069522         68.101622   \n",
       "\n",
       "         mean_dmsnr     std_dmsnr  kurtosis_dmsnr  skewness_dmsnr  \\\n",
       "count  12149.000000  12149.000000    12149.000000    12149.000000   \n",
       "mean      12.719273     26.379299        8.320956      105.681697   \n",
       "std       29.689592     19.680378        4.537205      107.618544   \n",
       "min        0.213211      7.370432       -3.139270       -1.976976   \n",
       "25%        1.913880     14.392332        5.786106       34.779827   \n",
       "50%        2.795151     18.404455        8.439768       83.229201   \n",
       "75%        5.450669     28.332757       10.720199      140.358896   \n",
       "max      222.421405    110.642211       34.539844     1191.000837   \n",
       "\n",
       "             target  \n",
       "count  12149.000000  \n",
       "mean       0.091695  \n",
       "std        0.288606  \n",
       "min        0.000000  \n",
       "25%        0.000000  \n",
       "50%        0.000000  \n",
       "75%        0.000000  \n",
       "max        1.000000  "
      ]
     },
     "execution_count": 23,
     "metadata": {},
     "output_type": "execute_result"
    }
   ],
   "source": [
    "df_train.describe()"
   ]
  },
  {
   "cell_type": "code",
   "execution_count": 24,
   "id": "6c8ea06d",
   "metadata": {
    "execution": {
     "iopub.execute_input": "2022-02-22T16:07:49.729041Z",
     "iopub.status.busy": "2022-02-22T16:07:49.728495Z",
     "iopub.status.idle": "2022-02-22T16:07:49.764338Z",
     "shell.execute_reply": "2022-02-22T16:07:49.763879Z",
     "shell.execute_reply.started": "2021-12-16T19:58:04.74706Z"
    },
    "papermill": {
     "duration": 0.088621,
     "end_time": "2022-02-22T16:07:49.764452",
     "exception": false,
     "start_time": "2022-02-22T16:07:49.675831",
     "status": "completed"
    },
    "tags": []
   },
   "outputs": [
    {
     "data": {
      "text/html": [
       "<div>\n",
       "<style scoped>\n",
       "    .dataframe tbody tr th:only-of-type {\n",
       "        vertical-align: middle;\n",
       "    }\n",
       "\n",
       "    .dataframe tbody tr th {\n",
       "        vertical-align: top;\n",
       "    }\n",
       "\n",
       "    .dataframe thead th {\n",
       "        text-align: right;\n",
       "    }\n",
       "</style>\n",
       "<table border=\"1\" class=\"dataframe\">\n",
       "  <thead>\n",
       "    <tr style=\"text-align: right;\">\n",
       "      <th></th>\n",
       "      <th>mean_profile</th>\n",
       "      <th>std_profile</th>\n",
       "      <th>kurtosis_profile</th>\n",
       "      <th>skewness_profile</th>\n",
       "      <th>mean_dmsnr</th>\n",
       "      <th>std_dmsnr</th>\n",
       "      <th>kurtosis_dmsnr</th>\n",
       "      <th>skewness_dmsnr</th>\n",
       "      <th>target</th>\n",
       "    </tr>\n",
       "  </thead>\n",
       "  <tbody>\n",
       "    <tr>\n",
       "      <th>count</th>\n",
       "      <td>12528.000000</td>\n",
       "      <td>12528.000000</td>\n",
       "      <td>10793.000000</td>\n",
       "      <td>12528.000000</td>\n",
       "      <td>12528.000000</td>\n",
       "      <td>11350.000000</td>\n",
       "      <td>12528.000000</td>\n",
       "      <td>11903.000000</td>\n",
       "      <td>12528.000000</td>\n",
       "    </tr>\n",
       "    <tr>\n",
       "      <th>mean</th>\n",
       "      <td>111.041841</td>\n",
       "      <td>46.521437</td>\n",
       "      <td>0.478548</td>\n",
       "      <td>1.778431</td>\n",
       "      <td>12.674758</td>\n",
       "      <td>26.351318</td>\n",
       "      <td>8.333489</td>\n",
       "      <td>105.525779</td>\n",
       "      <td>0.092034</td>\n",
       "    </tr>\n",
       "    <tr>\n",
       "      <th>std</th>\n",
       "      <td>25.672828</td>\n",
       "      <td>6.801077</td>\n",
       "      <td>1.064708</td>\n",
       "      <td>6.208450</td>\n",
       "      <td>29.613230</td>\n",
       "      <td>19.610842</td>\n",
       "      <td>4.535783</td>\n",
       "      <td>107.399585</td>\n",
       "      <td>0.289085</td>\n",
       "    </tr>\n",
       "    <tr>\n",
       "      <th>min</th>\n",
       "      <td>5.812500</td>\n",
       "      <td>24.772042</td>\n",
       "      <td>-1.738021</td>\n",
       "      <td>-1.791886</td>\n",
       "      <td>0.213211</td>\n",
       "      <td>7.370432</td>\n",
       "      <td>-3.139270</td>\n",
       "      <td>-1.976976</td>\n",
       "      <td>0.000000</td>\n",
       "    </tr>\n",
       "    <tr>\n",
       "      <th>25%</th>\n",
       "      <td>100.871094</td>\n",
       "      <td>42.362222</td>\n",
       "      <td>0.024652</td>\n",
       "      <td>-0.188142</td>\n",
       "      <td>1.910535</td>\n",
       "      <td>14.404353</td>\n",
       "      <td>5.803063</td>\n",
       "      <td>35.199899</td>\n",
       "      <td>0.000000</td>\n",
       "    </tr>\n",
       "    <tr>\n",
       "      <th>50%</th>\n",
       "      <td>115.183594</td>\n",
       "      <td>46.931022</td>\n",
       "      <td>0.223678</td>\n",
       "      <td>0.203317</td>\n",
       "      <td>2.792642</td>\n",
       "      <td>18.412402</td>\n",
       "      <td>8.451097</td>\n",
       "      <td>83.126301</td>\n",
       "      <td>0.000000</td>\n",
       "    </tr>\n",
       "    <tr>\n",
       "      <th>75%</th>\n",
       "      <td>127.109375</td>\n",
       "      <td>50.979103</td>\n",
       "      <td>0.473125</td>\n",
       "      <td>0.932374</td>\n",
       "      <td>5.413253</td>\n",
       "      <td>28.337418</td>\n",
       "      <td>10.727927</td>\n",
       "      <td>139.997850</td>\n",
       "      <td>0.000000</td>\n",
       "    </tr>\n",
       "    <tr>\n",
       "      <th>max</th>\n",
       "      <td>189.734375</td>\n",
       "      <td>91.808628</td>\n",
       "      <td>8.069522</td>\n",
       "      <td>68.101622</td>\n",
       "      <td>222.421405</td>\n",
       "      <td>110.642211</td>\n",
       "      <td>34.539844</td>\n",
       "      <td>1191.000837</td>\n",
       "      <td>1.000000</td>\n",
       "    </tr>\n",
       "  </tbody>\n",
       "</table>\n",
       "</div>"
      ],
      "text/plain": [
       "       mean_profile   std_profile  kurtosis_profile  skewness_profile  \\\n",
       "count  12528.000000  12528.000000      10793.000000      12528.000000   \n",
       "mean     111.041841     46.521437          0.478548          1.778431   \n",
       "std       25.672828      6.801077          1.064708          6.208450   \n",
       "min        5.812500     24.772042         -1.738021         -1.791886   \n",
       "25%      100.871094     42.362222          0.024652         -0.188142   \n",
       "50%      115.183594     46.931022          0.223678          0.203317   \n",
       "75%      127.109375     50.979103          0.473125          0.932374   \n",
       "max      189.734375     91.808628          8.069522         68.101622   \n",
       "\n",
       "         mean_dmsnr     std_dmsnr  kurtosis_dmsnr  skewness_dmsnr  \\\n",
       "count  12528.000000  11350.000000    12528.000000    11903.000000   \n",
       "mean      12.674758     26.351318        8.333489      105.525779   \n",
       "std       29.613230     19.610842        4.535783      107.399585   \n",
       "min        0.213211      7.370432       -3.139270       -1.976976   \n",
       "25%        1.910535     14.404353        5.803063       35.199899   \n",
       "50%        2.792642     18.412402        8.451097       83.126301   \n",
       "75%        5.413253     28.337418       10.727927      139.997850   \n",
       "max      222.421405    110.642211       34.539844     1191.000837   \n",
       "\n",
       "             target  \n",
       "count  12528.000000  \n",
       "mean       0.092034  \n",
       "std        0.289085  \n",
       "min        0.000000  \n",
       "25%        0.000000  \n",
       "50%        0.000000  \n",
       "75%        0.000000  \n",
       "max        1.000000  "
      ]
     },
     "execution_count": 24,
     "metadata": {},
     "output_type": "execute_result"
    }
   ],
   "source": [
    "df_train_copy.describe()"
   ]
  },
  {
   "cell_type": "markdown",
   "id": "406ee223",
   "metadata": {
    "papermill": {
     "duration": 0.047877,
     "end_time": "2022-02-22T16:07:49.862380",
     "exception": false,
     "start_time": "2022-02-22T16:07:49.814503",
     "status": "completed"
    },
    "tags": []
   },
   "source": [
    "We can see that the mean and standard deviation values in the treated dataframe is close to the values in original dataframe. So we can consider this method for missing value treatment."
   ]
  },
  {
   "cell_type": "markdown",
   "id": "70b70ef9",
   "metadata": {
    "papermill": {
     "duration": 0.046946,
     "end_time": "2022-02-22T16:07:49.956656",
     "exception": false,
     "start_time": "2022-02-22T16:07:49.909710",
     "status": "completed"
    },
    "tags": []
   },
   "source": [
    "### Dealing with Duplicate"
   ]
  },
  {
   "cell_type": "code",
   "execution_count": 25,
   "id": "5f32901e",
   "metadata": {
    "execution": {
     "iopub.execute_input": "2022-02-22T16:07:50.057973Z",
     "iopub.status.busy": "2022-02-22T16:07:50.057243Z",
     "iopub.status.idle": "2022-02-22T16:07:50.073069Z",
     "shell.execute_reply": "2022-02-22T16:07:50.072196Z",
     "shell.execute_reply.started": "2021-12-16T19:58:04.787198Z"
    },
    "papermill": {
     "duration": 0.068835,
     "end_time": "2022-02-22T16:07:50.073208",
     "exception": false,
     "start_time": "2022-02-22T16:07:50.004373",
     "status": "completed"
    },
    "tags": []
   },
   "outputs": [
    {
     "data": {
      "text/plain": [
       "0"
      ]
     },
     "execution_count": 25,
     "metadata": {},
     "output_type": "execute_result"
    }
   ],
   "source": [
    "df_train.duplicated().sum()"
   ]
  },
  {
   "cell_type": "markdown",
   "id": "530fb8c2",
   "metadata": {
    "papermill": {
     "duration": 0.048529,
     "end_time": "2022-02-22T16:07:50.171391",
     "exception": false,
     "start_time": "2022-02-22T16:07:50.122862",
     "status": "completed"
    },
    "tags": []
   },
   "source": [
    "there is no duplicated data"
   ]
  },
  {
   "cell_type": "markdown",
   "id": "7bbbabb6",
   "metadata": {
    "papermill": {
     "duration": 0.04812,
     "end_time": "2022-02-22T16:07:50.267988",
     "exception": false,
     "start_time": "2022-02-22T16:07:50.219868",
     "status": "completed"
    },
    "tags": []
   },
   "source": [
    "### Dealing with Outliers"
   ]
  },
  {
   "cell_type": "code",
   "execution_count": 26,
   "id": "7eadc296",
   "metadata": {
    "execution": {
     "iopub.execute_input": "2022-02-22T16:07:50.370738Z",
     "iopub.status.busy": "2022-02-22T16:07:50.370254Z",
     "iopub.status.idle": "2022-02-22T16:07:51.527142Z",
     "shell.execute_reply": "2022-02-22T16:07:51.527640Z",
     "shell.execute_reply.started": "2021-12-16T19:58:04.810707Z"
    },
    "papermill": {
     "duration": 1.210707,
     "end_time": "2022-02-22T16:07:51.527773",
     "exception": false,
     "start_time": "2022-02-22T16:07:50.317066",
     "status": "completed"
    },
    "tags": []
   },
   "outputs": [
    {
     "data": {
      "text/plain": [
       "mean_profile           AxesSubplot(0.125,0.657941;0.227941x0.222059)\n",
       "std_profile         AxesSubplot(0.398529,0.657941;0.227941x0.222059)\n",
       "kurtosis_profile    AxesSubplot(0.672059,0.657941;0.227941x0.222059)\n",
       "skewness_profile       AxesSubplot(0.125,0.391471;0.227941x0.222059)\n",
       "mean_dmsnr          AxesSubplot(0.398529,0.391471;0.227941x0.222059)\n",
       "std_dmsnr           AxesSubplot(0.672059,0.391471;0.227941x0.222059)\n",
       "kurtosis_dmsnr            AxesSubplot(0.125,0.125;0.227941x0.222059)\n",
       "skewness_dmsnr         AxesSubplot(0.398529,0.125;0.227941x0.222059)\n",
       "target                 AxesSubplot(0.672059,0.125;0.227941x0.222059)\n",
       "dtype: object"
      ]
     },
     "execution_count": 26,
     "metadata": {},
     "output_type": "execute_result"
    },
    {
     "data": {
      "image/png": "[encoded data removed]",
      "text/plain": [
       "<Figure size 1296x1080 with 9 Axes>"
      ]
     },
     "metadata": {
      "needs_background": "light"
     },
     "output_type": "display_data"
    }
   ],
   "source": [
    "df_train.plot(kind = \"box\" , subplots = True , figsize = (18,15) ,  layout = (3,3))"
   ]
  },
  {
   "cell_type": "code",
   "execution_count": 27,
   "id": "2193fa0e",
   "metadata": {
    "execution": {
     "iopub.execute_input": "2022-02-22T16:07:51.632223Z",
     "iopub.status.busy": "2022-02-22T16:07:51.631678Z",
     "iopub.status.idle": "2022-02-22T16:07:51.691988Z",
     "shell.execute_reply": "2022-02-22T16:07:51.692392Z",
     "shell.execute_reply.started": "2021-12-16T19:58:06.00514Z"
    },
    "papermill": {
     "duration": 0.114126,
     "end_time": "2022-02-22T16:07:51.692551",
     "exception": false,
     "start_time": "2022-02-22T16:07:51.578425",
     "status": "completed"
    },
    "tags": []
   },
   "outputs": [],
   "source": [
    "df_train_outl = df_train.copy()\n",
    "def remove_outlier(col):\n",
    "    sorted(col)\n",
    "    Q1,Q3=np.percentile(col,[25,75])\n",
    "    IQR=Q3-Q1\n",
    "    lower_range= Q1-(1.5 * IQR)\n",
    "    upper_range= Q3+(1.5 * IQR)\n",
    "    return lower_range, upper_range\n",
    "\n",
    "for column in df_train_outl.loc[:,:'skewness_dmsnr'].columns:\n",
    "    if 1==1:\n",
    "        lr,ur=remove_outlier(df_train_outl[column])\n",
    "        df_train_outl[column]=np.where(df_train_outl[column]>ur,ur,df_train_outl[column])\n",
    "        df_train_outl[column]=np.where(df_train_outl[column]<lr,lr,df_train_outl[column])"
   ]
  },
  {
   "cell_type": "code",
   "execution_count": 28,
   "id": "3027b4eb",
   "metadata": {
    "execution": {
     "iopub.execute_input": "2022-02-22T16:07:51.818206Z",
     "iopub.status.busy": "2022-02-22T16:07:51.798029Z",
     "iopub.status.idle": "2022-02-22T16:07:52.141310Z",
     "shell.execute_reply": "2022-02-22T16:07:52.140764Z",
     "shell.execute_reply.started": "2021-12-16T19:58:06.064283Z"
    },
    "papermill": {
     "duration": 0.398208,
     "end_time": "2022-02-22T16:07:52.141456",
     "exception": false,
     "start_time": "2022-02-22T16:07:51.743248",
     "status": "completed"
    },
    "tags": []
   },
   "outputs": [
    {
     "data": {
      "text/plain": [
       "<AxesSubplot:title={'center':'Without Outliers'}>"
      ]
     },
     "execution_count": 28,
     "metadata": {},
     "output_type": "execute_result"
    },
    {
     "data": {
      "image/png": "[encoded data removed]",
      "text/plain": [
       "<Figure size 720x576 with 1 Axes>"
      ]
     },
     "metadata": {
      "needs_background": "light"
     },
     "output_type": "display_data"
    }
   ],
   "source": [
    "plt.figure(figsize=(10,8))\n",
    "plt.title('Without Outliers',fontsize=16)\n",
    "df_train_outl.boxplot(vert=0)"
   ]
  },
  {
   "cell_type": "code",
   "execution_count": 29,
   "id": "48d68433",
   "metadata": {
    "execution": {
     "iopub.execute_input": "2022-02-22T16:07:52.296306Z",
     "iopub.status.busy": "2022-02-22T16:07:52.295667Z",
     "iopub.status.idle": "2022-02-22T16:07:52.302981Z",
     "shell.execute_reply": "2022-02-22T16:07:52.303480Z",
     "shell.execute_reply.started": "2021-12-16T19:58:06.513376Z"
    },
    "papermill": {
     "duration": 0.08741,
     "end_time": "2022-02-22T16:07:52.303651",
     "exception": false,
     "start_time": "2022-02-22T16:07:52.216241",
     "status": "completed"
    },
    "tags": []
   },
   "outputs": [
    {
     "name": "stdout",
     "output_type": "stream",
     "text": [
      "<class 'pandas.core.frame.DataFrame'>\n",
      "Int64Index: 12149 entries, 0 to 12527\n",
      "Data columns (total 9 columns):\n",
      " #   Column            Non-Null Count  Dtype  \n",
      "---  ------            --------------  -----  \n",
      " 0   mean_profile      12149 non-null  float64\n",
      " 1   std_profile       12149 non-null  float64\n",
      " 2   kurtosis_profile  12149 non-null  float64\n",
      " 3   skewness_profile  12149 non-null  float64\n",
      " 4   mean_dmsnr        12149 non-null  float64\n",
      " 5   std_dmsnr         12149 non-null  float64\n",
      " 6   kurtosis_dmsnr    12149 non-null  float64\n",
      " 7   skewness_dmsnr    12149 non-null  float64\n",
      " 8   target            12149 non-null  float64\n",
      "dtypes: float64(9)\n",
      "memory usage: 949.1 KB\n"
     ]
    }
   ],
   "source": [
    "df_train_outl.info()"
   ]
  },
  {
   "cell_type": "markdown",
   "id": "95459dc8",
   "metadata": {
    "papermill": {
     "duration": 0.075659,
     "end_time": "2022-02-22T16:07:52.454499",
     "exception": false,
     "start_time": "2022-02-22T16:07:52.378840",
     "status": "completed"
    },
    "tags": []
   },
   "source": [
    "# Modeling"
   ]
  },
  {
   "cell_type": "markdown",
   "id": "c96146ce",
   "metadata": {
    "papermill": {
     "duration": 0.074281,
     "end_time": "2022-02-22T16:07:52.604731",
     "exception": false,
     "start_time": "2022-02-22T16:07:52.530450",
     "status": "completed"
    },
    "tags": []
   },
   "source": [
    "### Split the data"
   ]
  },
  {
   "cell_type": "code",
   "execution_count": 30,
   "id": "89713fcf",
   "metadata": {
    "execution": {
     "iopub.execute_input": "2022-02-22T16:07:52.758100Z",
     "iopub.status.busy": "2022-02-22T16:07:52.757452Z",
     "iopub.status.idle": "2022-02-22T16:07:52.764281Z",
     "shell.execute_reply": "2022-02-22T16:07:52.764779Z",
     "shell.execute_reply.started": "2021-12-16T19:58:06.528571Z"
    },
    "papermill": {
     "duration": 0.084741,
     "end_time": "2022-02-22T16:07:52.764974",
     "exception": false,
     "start_time": "2022-02-22T16:07:52.680233",
     "status": "completed"
    },
    "tags": []
   },
   "outputs": [],
   "source": [
    "X = df_train_outl.drop('target',axis=1)\n",
    "y = df_train_outl[['target']]\n",
    "X_train, X_test, y_train, y_test = train_test_split(X, y, test_size=.30, random_state=1)"
   ]
  },
  {
   "cell_type": "code",
   "execution_count": 31,
   "id": "76fa92c1",
   "metadata": {
    "execution": {
     "iopub.execute_input": "2022-02-22T16:07:52.921227Z",
     "iopub.status.busy": "2022-02-22T16:07:52.920577Z",
     "iopub.status.idle": "2022-02-22T16:07:52.928636Z",
     "shell.execute_reply": "2022-02-22T16:07:52.929165Z",
     "shell.execute_reply.started": "2021-12-16T19:58:06.541887Z"
    },
    "papermill": {
     "duration": 0.087179,
     "end_time": "2022-02-22T16:07:52.929344",
     "exception": false,
     "start_time": "2022-02-22T16:07:52.842165",
     "status": "completed"
    },
    "tags": []
   },
   "outputs": [],
   "source": [
    "# Scaling the data\n",
    "\n",
    "ss=StandardScaler() \n",
    "X_trains = ss.fit_transform(X_train)\n",
    "X_tests = ss.transform(X_test)"
   ]
  },
  {
   "cell_type": "markdown",
   "id": "de9749a3",
   "metadata": {
    "papermill": {
     "duration": 0.07459,
     "end_time": "2022-02-22T16:07:53.078910",
     "exception": false,
     "start_time": "2022-02-22T16:07:53.004320",
     "status": "completed"
    },
    "tags": []
   },
   "source": [
    "## Bulid the model"
   ]
  },
  {
   "cell_type": "code",
   "execution_count": 32,
   "id": "3cfc39e9",
   "metadata": {
    "execution": {
     "iopub.execute_input": "2022-02-22T16:07:53.232521Z",
     "iopub.status.busy": "2022-02-22T16:07:53.231883Z",
     "iopub.status.idle": "2022-02-22T16:07:53.472759Z",
     "shell.execute_reply": "2022-02-22T16:07:53.472136Z",
     "shell.execute_reply.started": "2021-12-16T19:58:06.560334Z"
    },
    "papermill": {
     "duration": 0.318645,
     "end_time": "2022-02-22T16:07:53.472921",
     "exception": false,
     "start_time": "2022-02-22T16:07:53.154276",
     "status": "completed"
    },
    "tags": []
   },
   "outputs": [],
   "source": [
    "SVM = svm.SVC(random_state=1).fit(X_trains, y_train)"
   ]
  },
  {
   "cell_type": "markdown",
   "id": "0ae16b05",
   "metadata": {
    "papermill": {
     "duration": 0.077459,
     "end_time": "2022-02-22T16:07:53.627112",
     "exception": false,
     "start_time": "2022-02-22T16:07:53.549653",
     "status": "completed"
    },
    "tags": []
   },
   "source": [
    "### For rbf kernal"
   ]
  },
  {
   "cell_type": "code",
   "execution_count": 33,
   "id": "f062ebc5",
   "metadata": {
    "execution": {
     "iopub.execute_input": "2022-02-22T16:07:53.783442Z",
     "iopub.status.busy": "2022-02-22T16:07:53.782668Z",
     "iopub.status.idle": "2022-02-22T16:07:53.786063Z",
     "shell.execute_reply": "2022-02-22T16:07:53.786637Z",
     "shell.execute_reply.started": "2021-12-16T19:58:06.906385Z"
    },
    "papermill": {
     "duration": 0.08348,
     "end_time": "2022-02-22T16:07:53.786860",
     "exception": false,
     "start_time": "2022-02-22T16:07:53.703380",
     "status": "completed"
    },
    "tags": []
   },
   "outputs": [],
   "source": [
    "SVM_param_grid = {'C': [0.01,0.1, 1, 10],  \n",
    "              'gamma': [0.09, 0.1, 0.2, 0.001], \n",
    "              'kernel': ['rbf'],\n",
    "              'tol':[0.001,0.0001],\n",
    "              'degree':[2,3]}\n",
    "\n",
    "SVM_grid1 = GridSearchCV(SVM, param_grid = SVM_param_grid, cv = 5, n_jobs=-1)"
   ]
  },
  {
   "cell_type": "code",
   "execution_count": 34,
   "id": "92b73a02",
   "metadata": {
    "_kg_hide-input": false,
    "_kg_hide-output": true,
    "execution": {
     "iopub.execute_input": "2022-02-22T16:07:53.946205Z",
     "iopub.status.busy": "2022-02-22T16:07:53.945542Z",
     "iopub.status.idle": "2022-02-22T16:08:35.563251Z",
     "shell.execute_reply": "2022-02-22T16:08:35.562584Z",
     "shell.execute_reply.started": "2021-12-16T19:58:06.914138Z"
    },
    "papermill": {
     "duration": 41.698093,
     "end_time": "2022-02-22T16:08:35.563397",
     "exception": false,
     "start_time": "2022-02-22T16:07:53.865304",
     "status": "completed"
    },
    "scrolled": true,
    "tags": []
   },
   "outputs": [
    {
     "name": "stderr",
     "output_type": "stream",
     "text": [
      "/opt/conda/lib/python3.7/site-packages/sklearn/utils/validation.py:72: DataConversionWarning: A column-vector y was passed when a 1d array was expected. Please change the shape of y to (n_samples, ), for example using ravel().\n",
      "  return f(**kwargs)\n",
      "/opt/conda/lib/python3.7/site-packages/sklearn/utils/validation.py:72: DataConversionWarning: A column-vector y was passed when a 1d array was expected. Please change the shape of y to (n_samples, ), for example using ravel().\n",
      "  return f(**kwargs)\n",
      "/opt/conda/lib/python3.7/site-packages/sklearn/utils/validation.py:72: DataConversionWarning: A column-vector y was passed when a 1d array was expected. Please change the shape of y to (n_samples, ), for example using ravel().\n",
      "  return f(**kwargs)\n",
      "/opt/conda/lib/python3.7/site-packages/sklearn/utils/validation.py:72: DataConversionWarning: A column-vector y was passed when a 1d array was expected. Please change the shape of y to (n_samples, ), for example using ravel().\n",
      "  return f(**kwargs)\n",
      "/opt/conda/lib/python3.7/site-packages/sklearn/utils/validation.py:72: DataConversionWarning: A column-vector y was passed when a 1d array was expected. Please change the shape of y to (n_samples, ), for example using ravel().\n",
      "  return f(**kwargs)\n",
      "/opt/conda/lib/python3.7/site-packages/sklearn/utils/validation.py:72: DataConversionWarning: A column-vector y was passed when a 1d array was expected. Please change the shape of y to (n_samples, ), for example using ravel().\n",
      "  return f(**kwargs)\n",
      "/opt/conda/lib/python3.7/site-packages/sklearn/utils/validation.py:72: DataConversionWarning: A column-vector y was passed when a 1d array was expected. Please change the shape of y to (n_samples, ), for example using ravel().\n",
      "  return f(**kwargs)\n",
      "/opt/conda/lib/python3.7/site-packages/sklearn/utils/validation.py:72: DataConversionWarning: A column-vector y was passed when a 1d array was expected. Please change the shape of y to (n_samples, ), for example using ravel().\n",
      "  return f(**kwargs)\n",
      "/opt/conda/lib/python3.7/site-packages/sklearn/utils/validation.py:72: DataConversionWarning: A column-vector y was passed when a 1d array was expected. Please change the shape of y to (n_samples, ), for example using ravel().\n",
      "  return f(**kwargs)\n",
      "/opt/conda/lib/python3.7/site-packages/sklearn/utils/validation.py:72: DataConversionWarning: A column-vector y was passed when a 1d array was expected. Please change the shape of y to (n_samples, ), for example using ravel().\n",
      "  return f(**kwargs)\n",
      "/opt/conda/lib/python3.7/site-packages/sklearn/utils/validation.py:72: DataConversionWarning: A column-vector y was passed when a 1d array was expected. Please change the shape of y to (n_samples, ), for example using ravel().\n",
      "  return f(**kwargs)\n",
      "/opt/conda/lib/python3.7/site-packages/sklearn/utils/validation.py:72: DataConversionWarning: A column-vector y was passed when a 1d array was expected. Please change the shape of y to (n_samples, ), for example using ravel().\n",
      "  return f(**kwargs)\n",
      "/opt/conda/lib/python3.7/site-packages/sklearn/utils/validation.py:72: DataConversionWarning: A column-vector y was passed when a 1d array was expected. Please change the shape of y to (n_samples, ), for example using ravel().\n",
      "  return f(**kwargs)\n",
      "/opt/conda/lib/python3.7/site-packages/sklearn/utils/validation.py:72: DataConversionWarning: A column-vector y was passed when a 1d array was expected. Please change the shape of y to (n_samples, ), for example using ravel().\n",
      "  return f(**kwargs)\n",
      "/opt/conda/lib/python3.7/site-packages/sklearn/utils/validation.py:72: DataConversionWarning: A column-vector y was passed when a 1d array was expected. Please change the shape of y to (n_samples, ), for example using ravel().\n",
      "  return f(**kwargs)\n",
      "/opt/conda/lib/python3.7/site-packages/sklearn/utils/validation.py:72: DataConversionWarning: A column-vector y was passed when a 1d array was expected. Please change the shape of y to (n_samples, ), for example using ravel().\n",
      "  return f(**kwargs)\n",
      "/opt/conda/lib/python3.7/site-packages/sklearn/utils/validation.py:72: DataConversionWarning: A column-vector y was passed when a 1d array was expected. Please change the shape of y to (n_samples, ), for example using ravel().\n",
      "  return f(**kwargs)\n",
      "/opt/conda/lib/python3.7/site-packages/sklearn/utils/validation.py:72: DataConversionWarning: A column-vector y was passed when a 1d array was expected. Please change the shape of y to (n_samples, ), for example using ravel().\n",
      "  return f(**kwargs)\n",
      "/opt/conda/lib/python3.7/site-packages/sklearn/utils/validation.py:72: DataConversionWarning: A column-vector y was passed when a 1d array was expected. Please change the shape of y to (n_samples, ), for example using ravel().\n",
      "  return f(**kwargs)\n",
      "/opt/conda/lib/python3.7/site-packages/sklearn/utils/validation.py:72: DataConversionWarning: A column-vector y was passed when a 1d array was expected. Please change the shape of y to (n_samples, ), for example using ravel().\n",
      "  return f(**kwargs)\n",
      "/opt/conda/lib/python3.7/site-packages/sklearn/utils/validation.py:72: DataConversionWarning: A column-vector y was passed when a 1d array was expected. Please change the shape of y to (n_samples, ), for example using ravel().\n",
      "  return f(**kwargs)\n",
      "/opt/conda/lib/python3.7/site-packages/sklearn/utils/validation.py:72: DataConversionWarning: A column-vector y was passed when a 1d array was expected. Please change the shape of y to (n_samples, ), for example using ravel().\n",
      "  return f(**kwargs)\n",
      "/opt/conda/lib/python3.7/site-packages/sklearn/utils/validation.py:72: DataConversionWarning: A column-vector y was passed when a 1d array was expected. Please change the shape of y to (n_samples, ), for example using ravel().\n",
      "  return f(**kwargs)\n",
      "/opt/conda/lib/python3.7/site-packages/sklearn/utils/validation.py:72: DataConversionWarning: A column-vector y was passed when a 1d array was expected. Please change the shape of y to (n_samples, ), for example using ravel().\n",
      "  return f(**kwargs)\n",
      "/opt/conda/lib/python3.7/site-packages/sklearn/utils/validation.py:72: DataConversionWarning: A column-vector y was passed when a 1d array was expected. Please change the shape of y to (n_samples, ), for example using ravel().\n",
      "  return f(**kwargs)\n",
      "/opt/conda/lib/python3.7/site-packages/sklearn/utils/validation.py:72: DataConversionWarning: A column-vector y was passed when a 1d array was expected. Please change the shape of y to (n_samples, ), for example using ravel().\n",
      "  return f(**kwargs)\n",
      "/opt/conda/lib/python3.7/site-packages/sklearn/utils/validation.py:72: DataConversionWarning: A column-vector y was passed when a 1d array was expected. Please change the shape of y to (n_samples, ), for example using ravel().\n",
      "  return f(**kwargs)\n",
      "/opt/conda/lib/python3.7/site-packages/sklearn/utils/validation.py:72: DataConversionWarning: A column-vector y was passed when a 1d array was expected. Please change the shape of y to (n_samples, ), for example using ravel().\n",
      "  return f(**kwargs)\n",
      "/opt/conda/lib/python3.7/site-packages/sklearn/utils/validation.py:72: DataConversionWarning: A column-vector y was passed when a 1d array was expected. Please change the shape of y to (n_samples, ), for example using ravel().\n",
      "  return f(**kwargs)\n",
      "/opt/conda/lib/python3.7/site-packages/sklearn/utils/validation.py:72: DataConversionWarning: A column-vector y was passed when a 1d array was expected. Please change the shape of y to (n_samples, ), for example using ravel().\n",
      "  return f(**kwargs)\n",
      "/opt/conda/lib/python3.7/site-packages/sklearn/utils/validation.py:72: DataConversionWarning: A column-vector y was passed when a 1d array was expected. Please change the shape of y to (n_samples, ), for example using ravel().\n",
      "  return f(**kwargs)\n",
      "/opt/conda/lib/python3.7/site-packages/sklearn/utils/validation.py:72: DataConversionWarning: A column-vector y was passed when a 1d array was expected. Please change the shape of y to (n_samples, ), for example using ravel().\n",
      "  return f(**kwargs)\n",
      "/opt/conda/lib/python3.7/site-packages/sklearn/utils/validation.py:72: DataConversionWarning: A column-vector y was passed when a 1d array was expected. Please change the shape of y to (n_samples, ), for example using ravel().\n",
      "  return f(**kwargs)\n",
      "/opt/conda/lib/python3.7/site-packages/sklearn/utils/validation.py:72: DataConversionWarning: A column-vector y was passed when a 1d array was expected. Please change the shape of y to (n_samples, ), for example using ravel().\n",
      "  return f(**kwargs)\n",
      "/opt/conda/lib/python3.7/site-packages/sklearn/utils/validation.py:72: DataConversionWarning: A column-vector y was passed when a 1d array was expected. Please change the shape of y to (n_samples, ), for example using ravel().\n",
      "  return f(**kwargs)\n",
      "/opt/conda/lib/python3.7/site-packages/sklearn/utils/validation.py:72: DataConversionWarning: A column-vector y was passed when a 1d array was expected. Please change the shape of y to (n_samples, ), for example using ravel().\n",
      "  return f(**kwargs)\n",
      "/opt/conda/lib/python3.7/site-packages/sklearn/utils/validation.py:72: DataConversionWarning: A column-vector y was passed when a 1d array was expected. Please change the shape of y to (n_samples, ), for example using ravel().\n",
      "  return f(**kwargs)\n",
      "/opt/conda/lib/python3.7/site-packages/sklearn/utils/validation.py:72: DataConversionWarning: A column-vector y was passed when a 1d array was expected. Please change the shape of y to (n_samples, ), for example using ravel().\n",
      "  return f(**kwargs)\n",
      "/opt/conda/lib/python3.7/site-packages/sklearn/utils/validation.py:72: DataConversionWarning: A column-vector y was passed when a 1d array was expected. Please change the shape of y to (n_samples, ), for example using ravel().\n",
      "  return f(**kwargs)\n",
      "/opt/conda/lib/python3.7/site-packages/sklearn/utils/validation.py:72: DataConversionWarning: A column-vector y was passed when a 1d array was expected. Please change the shape of y to (n_samples, ), for example using ravel().\n",
      "  return f(**kwargs)\n",
      "/opt/conda/lib/python3.7/site-packages/sklearn/utils/validation.py:72: DataConversionWarning: A column-vector y was passed when a 1d array was expected. Please change the shape of y to (n_samples, ), for example using ravel().\n",
      "  return f(**kwargs)\n",
      "/opt/conda/lib/python3.7/site-packages/sklearn/utils/validation.py:72: DataConversionWarning: A column-vector y was passed when a 1d array was expected. Please change the shape of y to (n_samples, ), for example using ravel().\n",
      "  return f(**kwargs)\n",
      "/opt/conda/lib/python3.7/site-packages/sklearn/utils/validation.py:72: DataConversionWarning: A column-vector y was passed when a 1d array was expected. Please change the shape of y to (n_samples, ), for example using ravel().\n",
      "  return f(**kwargs)\n",
      "/opt/conda/lib/python3.7/site-packages/sklearn/utils/validation.py:72: DataConversionWarning: A column-vector y was passed when a 1d array was expected. Please change the shape of y to (n_samples, ), for example using ravel().\n",
      "  return f(**kwargs)\n",
      "/opt/conda/lib/python3.7/site-packages/sklearn/utils/validation.py:72: DataConversionWarning: A column-vector y was passed when a 1d array was expected. Please change the shape of y to (n_samples, ), for example using ravel().\n",
      "  return f(**kwargs)\n",
      "/opt/conda/lib/python3.7/site-packages/sklearn/utils/validation.py:72: DataConversionWarning: A column-vector y was passed when a 1d array was expected. Please change the shape of y to (n_samples, ), for example using ravel().\n",
      "  return f(**kwargs)\n",
      "/opt/conda/lib/python3.7/site-packages/sklearn/utils/validation.py:72: DataConversionWarning: A column-vector y was passed when a 1d array was expected. Please change the shape of y to (n_samples, ), for example using ravel().\n",
      "  return f(**kwargs)\n",
      "/opt/conda/lib/python3.7/site-packages/sklearn/utils/validation.py:72: DataConversionWarning: A column-vector y was passed when a 1d array was expected. Please change the shape of y to (n_samples, ), for example using ravel().\n",
      "  return f(**kwargs)\n",
      "/opt/conda/lib/python3.7/site-packages/sklearn/utils/validation.py:72: DataConversionWarning: A column-vector y was passed when a 1d array was expected. Please change the shape of y to (n_samples, ), for example using ravel().\n",
      "  return f(**kwargs)\n",
      "/opt/conda/lib/python3.7/site-packages/sklearn/utils/validation.py:72: DataConversionWarning: A column-vector y was passed when a 1d array was expected. Please change the shape of y to (n_samples, ), for example using ravel().\n",
      "  return f(**kwargs)\n",
      "/opt/conda/lib/python3.7/site-packages/sklearn/utils/validation.py:72: DataConversionWarning: A column-vector y was passed when a 1d array was expected. Please change the shape of y to (n_samples, ), for example using ravel().\n",
      "  return f(**kwargs)\n",
      "/opt/conda/lib/python3.7/site-packages/sklearn/utils/validation.py:72: DataConversionWarning: A column-vector y was passed when a 1d array was expected. Please change the shape of y to (n_samples, ), for example using ravel().\n",
      "  return f(**kwargs)\n",
      "/opt/conda/lib/python3.7/site-packages/sklearn/utils/validation.py:72: DataConversionWarning: A column-vector y was passed when a 1d array was expected. Please change the shape of y to (n_samples, ), for example using ravel().\n",
      "  return f(**kwargs)\n",
      "/opt/conda/lib/python3.7/site-packages/sklearn/utils/validation.py:72: DataConversionWarning: A column-vector y was passed when a 1d array was expected. Please change the shape of y to (n_samples, ), for example using ravel().\n",
      "  return f(**kwargs)\n",
      "/opt/conda/lib/python3.7/site-packages/sklearn/utils/validation.py:72: DataConversionWarning: A column-vector y was passed when a 1d array was expected. Please change the shape of y to (n_samples, ), for example using ravel().\n",
      "  return f(**kwargs)\n",
      "/opt/conda/lib/python3.7/site-packages/sklearn/utils/validation.py:72: DataConversionWarning: A column-vector y was passed when a 1d array was expected. Please change the shape of y to (n_samples, ), for example using ravel().\n",
      "  return f(**kwargs)\n",
      "/opt/conda/lib/python3.7/site-packages/sklearn/utils/validation.py:72: DataConversionWarning: A column-vector y was passed when a 1d array was expected. Please change the shape of y to (n_samples, ), for example using ravel().\n",
      "  return f(**kwargs)\n",
      "/opt/conda/lib/python3.7/site-packages/sklearn/utils/validation.py:72: DataConversionWarning: A column-vector y was passed when a 1d array was expected. Please change the shape of y to (n_samples, ), for example using ravel().\n",
      "  return f(**kwargs)\n",
      "/opt/conda/lib/python3.7/site-packages/sklearn/utils/validation.py:72: DataConversionWarning: A column-vector y was passed when a 1d array was expected. Please change the shape of y to (n_samples, ), for example using ravel().\n",
      "  return f(**kwargs)\n",
      "/opt/conda/lib/python3.7/site-packages/sklearn/utils/validation.py:72: DataConversionWarning: A column-vector y was passed when a 1d array was expected. Please change the shape of y to (n_samples, ), for example using ravel().\n",
      "  return f(**kwargs)\n",
      "/opt/conda/lib/python3.7/site-packages/sklearn/utils/validation.py:72: DataConversionWarning: A column-vector y was passed when a 1d array was expected. Please change the shape of y to (n_samples, ), for example using ravel().\n",
      "  return f(**kwargs)\n",
      "/opt/conda/lib/python3.7/site-packages/sklearn/utils/validation.py:72: DataConversionWarning: A column-vector y was passed when a 1d array was expected. Please change the shape of y to (n_samples, ), for example using ravel().\n",
      "  return f(**kwargs)\n",
      "/opt/conda/lib/python3.7/site-packages/sklearn/utils/validation.py:72: DataConversionWarning: A column-vector y was passed when a 1d array was expected. Please change the shape of y to (n_samples, ), for example using ravel().\n",
      "  return f(**kwargs)\n",
      "/opt/conda/lib/python3.7/site-packages/sklearn/utils/validation.py:72: DataConversionWarning: A column-vector y was passed when a 1d array was expected. Please change the shape of y to (n_samples, ), for example using ravel().\n",
      "  return f(**kwargs)\n",
      "/opt/conda/lib/python3.7/site-packages/sklearn/utils/validation.py:72: DataConversionWarning: A column-vector y was passed when a 1d array was expected. Please change the shape of y to (n_samples, ), for example using ravel().\n",
      "  return f(**kwargs)\n",
      "/opt/conda/lib/python3.7/site-packages/sklearn/utils/validation.py:72: DataConversionWarning: A column-vector y was passed when a 1d array was expected. Please change the shape of y to (n_samples, ), for example using ravel().\n",
      "  return f(**kwargs)\n",
      "/opt/conda/lib/python3.7/site-packages/sklearn/utils/validation.py:72: DataConversionWarning: A column-vector y was passed when a 1d array was expected. Please change the shape of y to (n_samples, ), for example using ravel().\n",
      "  return f(**kwargs)\n",
      "/opt/conda/lib/python3.7/site-packages/sklearn/utils/validation.py:72: DataConversionWarning: A column-vector y was passed when a 1d array was expected. Please change the shape of y to (n_samples, ), for example using ravel().\n",
      "  return f(**kwargs)\n",
      "/opt/conda/lib/python3.7/site-packages/sklearn/utils/validation.py:72: DataConversionWarning: A column-vector y was passed when a 1d array was expected. Please change the shape of y to (n_samples, ), for example using ravel().\n",
      "  return f(**kwargs)\n",
      "/opt/conda/lib/python3.7/site-packages/sklearn/utils/validation.py:72: DataConversionWarning: A column-vector y was passed when a 1d array was expected. Please change the shape of y to (n_samples, ), for example using ravel().\n",
      "  return f(**kwargs)\n",
      "/opt/conda/lib/python3.7/site-packages/sklearn/utils/validation.py:72: DataConversionWarning: A column-vector y was passed when a 1d array was expected. Please change the shape of y to (n_samples, ), for example using ravel().\n",
      "  return f(**kwargs)\n",
      "/opt/conda/lib/python3.7/site-packages/sklearn/utils/validation.py:72: DataConversionWarning: A column-vector y was passed when a 1d array was expected. Please change the shape of y to (n_samples, ), for example using ravel().\n",
      "  return f(**kwargs)\n",
      "/opt/conda/lib/python3.7/site-packages/sklearn/utils/validation.py:72: DataConversionWarning: A column-vector y was passed when a 1d array was expected. Please change the shape of y to (n_samples, ), for example using ravel().\n",
      "  return f(**kwargs)\n",
      "/opt/conda/lib/python3.7/site-packages/sklearn/utils/validation.py:72: DataConversionWarning: A column-vector y was passed when a 1d array was expected. Please change the shape of y to (n_samples, ), for example using ravel().\n",
      "  return f(**kwargs)\n",
      "/opt/conda/lib/python3.7/site-packages/sklearn/utils/validation.py:72: DataConversionWarning: A column-vector y was passed when a 1d array was expected. Please change the shape of y to (n_samples, ), for example using ravel().\n",
      "  return f(**kwargs)\n",
      "/opt/conda/lib/python3.7/site-packages/sklearn/utils/validation.py:72: DataConversionWarning: A column-vector y was passed when a 1d array was expected. Please change the shape of y to (n_samples, ), for example using ravel().\n",
      "  return f(**kwargs)\n",
      "/opt/conda/lib/python3.7/site-packages/sklearn/utils/validation.py:72: DataConversionWarning: A column-vector y was passed when a 1d array was expected. Please change the shape of y to (n_samples, ), for example using ravel().\n",
      "  return f(**kwargs)\n",
      "/opt/conda/lib/python3.7/site-packages/sklearn/utils/validation.py:72: DataConversionWarning: A column-vector y was passed when a 1d array was expected. Please change the shape of y to (n_samples, ), for example using ravel().\n",
      "  return f(**kwargs)\n",
      "/opt/conda/lib/python3.7/site-packages/sklearn/utils/validation.py:72: DataConversionWarning: A column-vector y was passed when a 1d array was expected. Please change the shape of y to (n_samples, ), for example using ravel().\n",
      "  return f(**kwargs)\n",
      "/opt/conda/lib/python3.7/site-packages/sklearn/utils/validation.py:72: DataConversionWarning: A column-vector y was passed when a 1d array was expected. Please change the shape of y to (n_samples, ), for example using ravel().\n",
      "  return f(**kwargs)\n",
      "/opt/conda/lib/python3.7/site-packages/sklearn/utils/validation.py:72: DataConversionWarning: A column-vector y was passed when a 1d array was expected. Please change the shape of y to (n_samples, ), for example using ravel().\n",
      "  return f(**kwargs)\n",
      "/opt/conda/lib/python3.7/site-packages/sklearn/utils/validation.py:72: DataConversionWarning: A column-vector y was passed when a 1d array was expected. Please change the shape of y to (n_samples, ), for example using ravel().\n",
      "  return f(**kwargs)\n",
      "/opt/conda/lib/python3.7/site-packages/sklearn/utils/validation.py:72: DataConversionWarning: A column-vector y was passed when a 1d array was expected. Please change the shape of y to (n_samples, ), for example using ravel().\n",
      "  return f(**kwargs)\n",
      "/opt/conda/lib/python3.7/site-packages/sklearn/utils/validation.py:72: DataConversionWarning: A column-vector y was passed when a 1d array was expected. Please change the shape of y to (n_samples, ), for example using ravel().\n",
      "  return f(**kwargs)\n",
      "/opt/conda/lib/python3.7/site-packages/sklearn/utils/validation.py:72: DataConversionWarning: A column-vector y was passed when a 1d array was expected. Please change the shape of y to (n_samples, ), for example using ravel().\n",
      "  return f(**kwargs)\n",
      "/opt/conda/lib/python3.7/site-packages/sklearn/utils/validation.py:72: DataConversionWarning: A column-vector y was passed when a 1d array was expected. Please change the shape of y to (n_samples, ), for example using ravel().\n",
      "  return f(**kwargs)\n",
      "/opt/conda/lib/python3.7/site-packages/sklearn/utils/validation.py:72: DataConversionWarning: A column-vector y was passed when a 1d array was expected. Please change the shape of y to (n_samples, ), for example using ravel().\n",
      "  return f(**kwargs)\n",
      "/opt/conda/lib/python3.7/site-packages/sklearn/utils/validation.py:72: DataConversionWarning: A column-vector y was passed when a 1d array was expected. Please change the shape of y to (n_samples, ), for example using ravel().\n",
      "  return f(**kwargs)\n",
      "/opt/conda/lib/python3.7/site-packages/sklearn/utils/validation.py:72: DataConversionWarning: A column-vector y was passed when a 1d array was expected. Please change the shape of y to (n_samples, ), for example using ravel().\n",
      "  return f(**kwargs)\n",
      "/opt/conda/lib/python3.7/site-packages/sklearn/utils/validation.py:72: DataConversionWarning: A column-vector y was passed when a 1d array was expected. Please change the shape of y to (n_samples, ), for example using ravel().\n",
      "  return f(**kwargs)\n",
      "/opt/conda/lib/python3.7/site-packages/sklearn/utils/validation.py:72: DataConversionWarning: A column-vector y was passed when a 1d array was expected. Please change the shape of y to (n_samples, ), for example using ravel().\n",
      "  return f(**kwargs)\n",
      "/opt/conda/lib/python3.7/site-packages/sklearn/utils/validation.py:72: DataConversionWarning: A column-vector y was passed when a 1d array was expected. Please change the shape of y to (n_samples, ), for example using ravel().\n",
      "  return f(**kwargs)\n",
      "/opt/conda/lib/python3.7/site-packages/sklearn/utils/validation.py:72: DataConversionWarning: A column-vector y was passed when a 1d array was expected. Please change the shape of y to (n_samples, ), for example using ravel().\n",
      "  return f(**kwargs)\n",
      "/opt/conda/lib/python3.7/site-packages/sklearn/utils/validation.py:72: DataConversionWarning: A column-vector y was passed when a 1d array was expected. Please change the shape of y to (n_samples, ), for example using ravel().\n",
      "  return f(**kwargs)\n",
      "/opt/conda/lib/python3.7/site-packages/sklearn/utils/validation.py:72: DataConversionWarning: A column-vector y was passed when a 1d array was expected. Please change the shape of y to (n_samples, ), for example using ravel().\n",
      "  return f(**kwargs)\n",
      "/opt/conda/lib/python3.7/site-packages/sklearn/utils/validation.py:72: DataConversionWarning: A column-vector y was passed when a 1d array was expected. Please change the shape of y to (n_samples, ), for example using ravel().\n",
      "  return f(**kwargs)\n",
      "/opt/conda/lib/python3.7/site-packages/sklearn/utils/validation.py:72: DataConversionWarning: A column-vector y was passed when a 1d array was expected. Please change the shape of y to (n_samples, ), for example using ravel().\n",
      "  return f(**kwargs)\n",
      "/opt/conda/lib/python3.7/site-packages/sklearn/utils/validation.py:72: DataConversionWarning: A column-vector y was passed when a 1d array was expected. Please change the shape of y to (n_samples, ), for example using ravel().\n",
      "  return f(**kwargs)\n",
      "/opt/conda/lib/python3.7/site-packages/sklearn/utils/validation.py:72: DataConversionWarning: A column-vector y was passed when a 1d array was expected. Please change the shape of y to (n_samples, ), for example using ravel().\n",
      "  return f(**kwargs)\n",
      "/opt/conda/lib/python3.7/site-packages/sklearn/utils/validation.py:72: DataConversionWarning: A column-vector y was passed when a 1d array was expected. Please change the shape of y to (n_samples, ), for example using ravel().\n",
      "  return f(**kwargs)\n",
      "/opt/conda/lib/python3.7/site-packages/sklearn/utils/validation.py:72: DataConversionWarning: A column-vector y was passed when a 1d array was expected. Please change the shape of y to (n_samples, ), for example using ravel().\n",
      "  return f(**kwargs)\n",
      "/opt/conda/lib/python3.7/site-packages/sklearn/utils/validation.py:72: DataConversionWarning: A column-vector y was passed when a 1d array was expected. Please change the shape of y to (n_samples, ), for example using ravel().\n",
      "  return f(**kwargs)\n",
      "/opt/conda/lib/python3.7/site-packages/sklearn/utils/validation.py:72: DataConversionWarning: A column-vector y was passed when a 1d array was expected. Please change the shape of y to (n_samples, ), for example using ravel().\n",
      "  return f(**kwargs)\n",
      "/opt/conda/lib/python3.7/site-packages/sklearn/utils/validation.py:72: DataConversionWarning: A column-vector y was passed when a 1d array was expected. Please change the shape of y to (n_samples, ), for example using ravel().\n",
      "  return f(**kwargs)\n",
      "/opt/conda/lib/python3.7/site-packages/sklearn/utils/validation.py:72: DataConversionWarning: A column-vector y was passed when a 1d array was expected. Please change the shape of y to (n_samples, ), for example using ravel().\n",
      "  return f(**kwargs)\n",
      "/opt/conda/lib/python3.7/site-packages/sklearn/utils/validation.py:72: DataConversionWarning: A column-vector y was passed when a 1d array was expected. Please change the shape of y to (n_samples, ), for example using ravel().\n",
      "  return f(**kwargs)\n",
      "/opt/conda/lib/python3.7/site-packages/sklearn/utils/validation.py:72: DataConversionWarning: A column-vector y was passed when a 1d array was expected. Please change the shape of y to (n_samples, ), for example using ravel().\n",
      "  return f(**kwargs)\n",
      "/opt/conda/lib/python3.7/site-packages/sklearn/utils/validation.py:72: DataConversionWarning: A column-vector y was passed when a 1d array was expected. Please change the shape of y to (n_samples, ), for example using ravel().\n",
      "  return f(**kwargs)\n",
      "/opt/conda/lib/python3.7/site-packages/sklearn/utils/validation.py:72: DataConversionWarning: A column-vector y was passed when a 1d array was expected. Please change the shape of y to (n_samples, ), for example using ravel().\n",
      "  return f(**kwargs)\n",
      "/opt/conda/lib/python3.7/site-packages/sklearn/utils/validation.py:72: DataConversionWarning: A column-vector y was passed when a 1d array was expected. Please change the shape of y to (n_samples, ), for example using ravel().\n",
      "  return f(**kwargs)\n",
      "/opt/conda/lib/python3.7/site-packages/sklearn/utils/validation.py:72: DataConversionWarning: A column-vector y was passed when a 1d array was expected. Please change the shape of y to (n_samples, ), for example using ravel().\n",
      "  return f(**kwargs)\n",
      "/opt/conda/lib/python3.7/site-packages/sklearn/utils/validation.py:72: DataConversionWarning: A column-vector y was passed when a 1d array was expected. Please change the shape of y to (n_samples, ), for example using ravel().\n",
      "  return f(**kwargs)\n",
      "/opt/conda/lib/python3.7/site-packages/sklearn/utils/validation.py:72: DataConversionWarning: A column-vector y was passed when a 1d array was expected. Please change the shape of y to (n_samples, ), for example using ravel().\n",
      "  return f(**kwargs)\n",
      "/opt/conda/lib/python3.7/site-packages/sklearn/utils/validation.py:72: DataConversionWarning: A column-vector y was passed when a 1d array was expected. Please change the shape of y to (n_samples, ), for example using ravel().\n",
      "  return f(**kwargs)\n",
      "/opt/conda/lib/python3.7/site-packages/sklearn/utils/validation.py:72: DataConversionWarning: A column-vector y was passed when a 1d array was expected. Please change the shape of y to (n_samples, ), for example using ravel().\n",
      "  return f(**kwargs)\n",
      "/opt/conda/lib/python3.7/site-packages/sklearn/utils/validation.py:72: DataConversionWarning: A column-vector y was passed when a 1d array was expected. Please change the shape of y to (n_samples, ), for example using ravel().\n",
      "  return f(**kwargs)\n",
      "/opt/conda/lib/python3.7/site-packages/sklearn/utils/validation.py:72: DataConversionWarning: A column-vector y was passed when a 1d array was expected. Please change the shape of y to (n_samples, ), for example using ravel().\n",
      "  return f(**kwargs)\n",
      "/opt/conda/lib/python3.7/site-packages/sklearn/utils/validation.py:72: DataConversionWarning: A column-vector y was passed when a 1d array was expected. Please change the shape of y to (n_samples, ), for example using ravel().\n",
      "  return f(**kwargs)\n",
      "/opt/conda/lib/python3.7/site-packages/sklearn/utils/validation.py:72: DataConversionWarning: A column-vector y was passed when a 1d array was expected. Please change the shape of y to (n_samples, ), for example using ravel().\n",
      "  return f(**kwargs)\n",
      "/opt/conda/lib/python3.7/site-packages/sklearn/utils/validation.py:72: DataConversionWarning: A column-vector y was passed when a 1d array was expected. Please change the shape of y to (n_samples, ), for example using ravel().\n",
      "  return f(**kwargs)\n",
      "/opt/conda/lib/python3.7/site-packages/sklearn/utils/validation.py:72: DataConversionWarning: A column-vector y was passed when a 1d array was expected. Please change the shape of y to (n_samples, ), for example using ravel().\n",
      "  return f(**kwargs)\n",
      "/opt/conda/lib/python3.7/site-packages/sklearn/utils/validation.py:72: DataConversionWarning: A column-vector y was passed when a 1d array was expected. Please change the shape of y to (n_samples, ), for example using ravel().\n",
      "  return f(**kwargs)\n",
      "/opt/conda/lib/python3.7/site-packages/sklearn/utils/validation.py:72: DataConversionWarning: A column-vector y was passed when a 1d array was expected. Please change the shape of y to (n_samples, ), for example using ravel().\n",
      "  return f(**kwargs)\n",
      "/opt/conda/lib/python3.7/site-packages/sklearn/utils/validation.py:72: DataConversionWarning: A column-vector y was passed when a 1d array was expected. Please change the shape of y to (n_samples, ), for example using ravel().\n",
      "  return f(**kwargs)\n",
      "/opt/conda/lib/python3.7/site-packages/sklearn/utils/validation.py:72: DataConversionWarning: A column-vector y was passed when a 1d array was expected. Please change the shape of y to (n_samples, ), for example using ravel().\n",
      "  return f(**kwargs)\n",
      "/opt/conda/lib/python3.7/site-packages/sklearn/utils/validation.py:72: DataConversionWarning: A column-vector y was passed when a 1d array was expected. Please change the shape of y to (n_samples, ), for example using ravel().\n",
      "  return f(**kwargs)\n",
      "/opt/conda/lib/python3.7/site-packages/sklearn/utils/validation.py:72: DataConversionWarning: A column-vector y was passed when a 1d array was expected. Please change the shape of y to (n_samples, ), for example using ravel().\n",
      "  return f(**kwargs)\n",
      "/opt/conda/lib/python3.7/site-packages/sklearn/utils/validation.py:72: DataConversionWarning: A column-vector y was passed when a 1d array was expected. Please change the shape of y to (n_samples, ), for example using ravel().\n",
      "  return f(**kwargs)\n",
      "/opt/conda/lib/python3.7/site-packages/sklearn/utils/validation.py:72: DataConversionWarning: A column-vector y was passed when a 1d array was expected. Please change the shape of y to (n_samples, ), for example using ravel().\n",
      "  return f(**kwargs)\n",
      "/opt/conda/lib/python3.7/site-packages/sklearn/utils/validation.py:72: DataConversionWarning: A column-vector y was passed when a 1d array was expected. Please change the shape of y to (n_samples, ), for example using ravel().\n",
      "  return f(**kwargs)\n",
      "/opt/conda/lib/python3.7/site-packages/sklearn/utils/validation.py:72: DataConversionWarning: A column-vector y was passed when a 1d array was expected. Please change the shape of y to (n_samples, ), for example using ravel().\n",
      "  return f(**kwargs)\n",
      "/opt/conda/lib/python3.7/site-packages/sklearn/utils/validation.py:72: DataConversionWarning: A column-vector y was passed when a 1d array was expected. Please change the shape of y to (n_samples, ), for example using ravel().\n",
      "  return f(**kwargs)\n",
      "/opt/conda/lib/python3.7/site-packages/sklearn/utils/validation.py:72: DataConversionWarning: A column-vector y was passed when a 1d array was expected. Please change the shape of y to (n_samples, ), for example using ravel().\n",
      "  return f(**kwargs)\n",
      "/opt/conda/lib/python3.7/site-packages/sklearn/utils/validation.py:72: DataConversionWarning: A column-vector y was passed when a 1d array was expected. Please change the shape of y to (n_samples, ), for example using ravel().\n",
      "  return f(**kwargs)\n",
      "/opt/conda/lib/python3.7/site-packages/sklearn/utils/validation.py:72: DataConversionWarning: A column-vector y was passed when a 1d array was expected. Please change the shape of y to (n_samples, ), for example using ravel().\n",
      "  return f(**kwargs)\n",
      "/opt/conda/lib/python3.7/site-packages/sklearn/utils/validation.py:72: DataConversionWarning: A column-vector y was passed when a 1d array was expected. Please change the shape of y to (n_samples, ), for example using ravel().\n",
      "  return f(**kwargs)\n",
      "/opt/conda/lib/python3.7/site-packages/sklearn/utils/validation.py:72: DataConversionWarning: A column-vector y was passed when a 1d array was expected. Please change the shape of y to (n_samples, ), for example using ravel().\n",
      "  return f(**kwargs)\n",
      "/opt/conda/lib/python3.7/site-packages/sklearn/utils/validation.py:72: DataConversionWarning: A column-vector y was passed when a 1d array was expected. Please change the shape of y to (n_samples, ), for example using ravel().\n",
      "  return f(**kwargs)\n",
      "/opt/conda/lib/python3.7/site-packages/sklearn/utils/validation.py:72: DataConversionWarning: A column-vector y was passed when a 1d array was expected. Please change the shape of y to (n_samples, ), for example using ravel().\n",
      "  return f(**kwargs)\n",
      "/opt/conda/lib/python3.7/site-packages/sklearn/utils/validation.py:72: DataConversionWarning: A column-vector y was passed when a 1d array was expected. Please change the shape of y to (n_samples, ), for example using ravel().\n",
      "  return f(**kwargs)\n",
      "/opt/conda/lib/python3.7/site-packages/sklearn/utils/validation.py:72: DataConversionWarning: A column-vector y was passed when a 1d array was expected. Please change the shape of y to (n_samples, ), for example using ravel().\n",
      "  return f(**kwargs)\n",
      "/opt/conda/lib/python3.7/site-packages/sklearn/utils/validation.py:72: DataConversionWarning: A column-vector y was passed when a 1d array was expected. Please change the shape of y to (n_samples, ), for example using ravel().\n",
      "  return f(**kwargs)\n",
      "/opt/conda/lib/python3.7/site-packages/sklearn/utils/validation.py:72: DataConversionWarning: A column-vector y was passed when a 1d array was expected. Please change the shape of y to (n_samples, ), for example using ravel().\n",
      "  return f(**kwargs)\n",
      "/opt/conda/lib/python3.7/site-packages/sklearn/utils/validation.py:72: DataConversionWarning: A column-vector y was passed when a 1d array was expected. Please change the shape of y to (n_samples, ), for example using ravel().\n",
      "  return f(**kwargs)\n",
      "/opt/conda/lib/python3.7/site-packages/sklearn/utils/validation.py:72: DataConversionWarning: A column-vector y was passed when a 1d array was expected. Please change the shape of y to (n_samples, ), for example using ravel().\n",
      "  return f(**kwargs)\n",
      "/opt/conda/lib/python3.7/site-packages/sklearn/utils/validation.py:72: DataConversionWarning: A column-vector y was passed when a 1d array was expected. Please change the shape of y to (n_samples, ), for example using ravel().\n",
      "  return f(**kwargs)\n",
      "/opt/conda/lib/python3.7/site-packages/sklearn/utils/validation.py:72: DataConversionWarning: A column-vector y was passed when a 1d array was expected. Please change the shape of y to (n_samples, ), for example using ravel().\n",
      "  return f(**kwargs)\n",
      "/opt/conda/lib/python3.7/site-packages/sklearn/utils/validation.py:72: DataConversionWarning: A column-vector y was passed when a 1d array was expected. Please change the shape of y to (n_samples, ), for example using ravel().\n",
      "  return f(**kwargs)\n",
      "/opt/conda/lib/python3.7/site-packages/sklearn/utils/validation.py:72: DataConversionWarning: A column-vector y was passed when a 1d array was expected. Please change the shape of y to (n_samples, ), for example using ravel().\n",
      "  return f(**kwargs)\n",
      "/opt/conda/lib/python3.7/site-packages/sklearn/utils/validation.py:72: DataConversionWarning: A column-vector y was passed when a 1d array was expected. Please change the shape of y to (n_samples, ), for example using ravel().\n",
      "  return f(**kwargs)\n",
      "/opt/conda/lib/python3.7/site-packages/sklearn/utils/validation.py:72: DataConversionWarning: A column-vector y was passed when a 1d array was expected. Please change the shape of y to (n_samples, ), for example using ravel().\n",
      "  return f(**kwargs)\n",
      "/opt/conda/lib/python3.7/site-packages/sklearn/utils/validation.py:72: DataConversionWarning: A column-vector y was passed when a 1d array was expected. Please change the shape of y to (n_samples, ), for example using ravel().\n",
      "  return f(**kwargs)\n",
      "/opt/conda/lib/python3.7/site-packages/sklearn/utils/validation.py:72: DataConversionWarning: A column-vector y was passed when a 1d array was expected. Please change the shape of y to (n_samples, ), for example using ravel().\n",
      "  return f(**kwargs)\n",
      "/opt/conda/lib/python3.7/site-packages/sklearn/utils/validation.py:72: DataConversionWarning: A column-vector y was passed when a 1d array was expected. Please change the shape of y to (n_samples, ), for example using ravel().\n",
      "  return f(**kwargs)\n",
      "/opt/conda/lib/python3.7/site-packages/sklearn/utils/validation.py:72: DataConversionWarning: A column-vector y was passed when a 1d array was expected. Please change the shape of y to (n_samples, ), for example using ravel().\n",
      "  return f(**kwargs)\n",
      "/opt/conda/lib/python3.7/site-packages/sklearn/utils/validation.py:72: DataConversionWarning: A column-vector y was passed when a 1d array was expected. Please change the shape of y to (n_samples, ), for example using ravel().\n",
      "  return f(**kwargs)\n",
      "/opt/conda/lib/python3.7/site-packages/sklearn/utils/validation.py:72: DataConversionWarning: A column-vector y was passed when a 1d array was expected. Please change the shape of y to (n_samples, ), for example using ravel().\n",
      "  return f(**kwargs)\n",
      "/opt/conda/lib/python3.7/site-packages/sklearn/utils/validation.py:72: DataConversionWarning: A column-vector y was passed when a 1d array was expected. Please change the shape of y to (n_samples, ), for example using ravel().\n",
      "  return f(**kwargs)\n",
      "/opt/conda/lib/python3.7/site-packages/sklearn/utils/validation.py:72: DataConversionWarning: A column-vector y was passed when a 1d array was expected. Please change the shape of y to (n_samples, ), for example using ravel().\n",
      "  return f(**kwargs)\n",
      "/opt/conda/lib/python3.7/site-packages/sklearn/utils/validation.py:72: DataConversionWarning: A column-vector y was passed when a 1d array was expected. Please change the shape of y to (n_samples, ), for example using ravel().\n",
      "  return f(**kwargs)\n",
      "/opt/conda/lib/python3.7/site-packages/sklearn/utils/validation.py:72: DataConversionWarning: A column-vector y was passed when a 1d array was expected. Please change the shape of y to (n_samples, ), for example using ravel().\n",
      "  return f(**kwargs)\n",
      "/opt/conda/lib/python3.7/site-packages/sklearn/utils/validation.py:72: DataConversionWarning: A column-vector y was passed when a 1d array was expected. Please change the shape of y to (n_samples, ), for example using ravel().\n",
      "  return f(**kwargs)\n",
      "/opt/conda/lib/python3.7/site-packages/sklearn/utils/validation.py:72: DataConversionWarning: A column-vector y was passed when a 1d array was expected. Please change the shape of y to (n_samples, ), for example using ravel().\n",
      "  return f(**kwargs)\n",
      "/opt/conda/lib/python3.7/site-packages/sklearn/utils/validation.py:72: DataConversionWarning: A column-vector y was passed when a 1d array was expected. Please change the shape of y to (n_samples, ), for example using ravel().\n",
      "  return f(**kwargs)\n",
      "/opt/conda/lib/python3.7/site-packages/sklearn/utils/validation.py:72: DataConversionWarning: A column-vector y was passed when a 1d array was expected. Please change the shape of y to (n_samples, ), for example using ravel().\n",
      "  return f(**kwargs)\n",
      "/opt/conda/lib/python3.7/site-packages/sklearn/utils/validation.py:72: DataConversionWarning: A column-vector y was passed when a 1d array was expected. Please change the shape of y to (n_samples, ), for example using ravel().\n",
      "  return f(**kwargs)\n",
      "/opt/conda/lib/python3.7/site-packages/sklearn/utils/validation.py:72: DataConversionWarning: A column-vector y was passed when a 1d array was expected. Please change the shape of y to (n_samples, ), for example using ravel().\n",
      "  return f(**kwargs)\n",
      "/opt/conda/lib/python3.7/site-packages/sklearn/utils/validation.py:72: DataConversionWarning: A column-vector y was passed when a 1d array was expected. Please change the shape of y to (n_samples, ), for example using ravel().\n",
      "  return f(**kwargs)\n",
      "/opt/conda/lib/python3.7/site-packages/sklearn/utils/validation.py:72: DataConversionWarning: A column-vector y was passed when a 1d array was expected. Please change the shape of y to (n_samples, ), for example using ravel().\n",
      "  return f(**kwargs)\n",
      "/opt/conda/lib/python3.7/site-packages/sklearn/utils/validation.py:72: DataConversionWarning: A column-vector y was passed when a 1d array was expected. Please change the shape of y to (n_samples, ), for example using ravel().\n",
      "  return f(**kwargs)\n",
      "/opt/conda/lib/python3.7/site-packages/sklearn/utils/validation.py:72: DataConversionWarning: A column-vector y was passed when a 1d array was expected. Please change the shape of y to (n_samples, ), for example using ravel().\n",
      "  return f(**kwargs)\n",
      "/opt/conda/lib/python3.7/site-packages/sklearn/utils/validation.py:72: DataConversionWarning: A column-vector y was passed when a 1d array was expected. Please change the shape of y to (n_samples, ), for example using ravel().\n",
      "  return f(**kwargs)\n",
      "/opt/conda/lib/python3.7/site-packages/sklearn/utils/validation.py:72: DataConversionWarning: A column-vector y was passed when a 1d array was expected. Please change the shape of y to (n_samples, ), for example using ravel().\n",
      "  return f(**kwargs)\n",
      "/opt/conda/lib/python3.7/site-packages/sklearn/utils/validation.py:72: DataConversionWarning: A column-vector y was passed when a 1d array was expected. Please change the shape of y to (n_samples, ), for example using ravel().\n",
      "  return f(**kwargs)\n",
      "/opt/conda/lib/python3.7/site-packages/sklearn/utils/validation.py:72: DataConversionWarning: A column-vector y was passed when a 1d array was expected. Please change the shape of y to (n_samples, ), for example using ravel().\n",
      "  return f(**kwargs)\n",
      "/opt/conda/lib/python3.7/site-packages/sklearn/utils/validation.py:72: DataConversionWarning: A column-vector y was passed when a 1d array was expected. Please change the shape of y to (n_samples, ), for example using ravel().\n",
      "  return f(**kwargs)\n",
      "/opt/conda/lib/python3.7/site-packages/sklearn/utils/validation.py:72: DataConversionWarning: A column-vector y was passed when a 1d array was expected. Please change the shape of y to (n_samples, ), for example using ravel().\n",
      "  return f(**kwargs)\n",
      "/opt/conda/lib/python3.7/site-packages/sklearn/utils/validation.py:72: DataConversionWarning: A column-vector y was passed when a 1d array was expected. Please change the shape of y to (n_samples, ), for example using ravel().\n",
      "  return f(**kwargs)\n",
      "/opt/conda/lib/python3.7/site-packages/sklearn/utils/validation.py:72: DataConversionWarning: A column-vector y was passed when a 1d array was expected. Please change the shape of y to (n_samples, ), for example using ravel().\n",
      "  return f(**kwargs)\n",
      "/opt/conda/lib/python3.7/site-packages/sklearn/utils/validation.py:72: DataConversionWarning: A column-vector y was passed when a 1d array was expected. Please change the shape of y to (n_samples, ), for example using ravel().\n",
      "  return f(**kwargs)\n",
      "/opt/conda/lib/python3.7/site-packages/sklearn/utils/validation.py:72: DataConversionWarning: A column-vector y was passed when a 1d array was expected. Please change the shape of y to (n_samples, ), for example using ravel().\n",
      "  return f(**kwargs)\n",
      "/opt/conda/lib/python3.7/site-packages/sklearn/utils/validation.py:72: DataConversionWarning: A column-vector y was passed when a 1d array was expected. Please change the shape of y to (n_samples, ), for example using ravel().\n",
      "  return f(**kwargs)\n",
      "/opt/conda/lib/python3.7/site-packages/sklearn/utils/validation.py:72: DataConversionWarning: A column-vector y was passed when a 1d array was expected. Please change the shape of y to (n_samples, ), for example using ravel().\n",
      "  return f(**kwargs)\n",
      "/opt/conda/lib/python3.7/site-packages/sklearn/utils/validation.py:72: DataConversionWarning: A column-vector y was passed when a 1d array was expected. Please change the shape of y to (n_samples, ), for example using ravel().\n",
      "  return f(**kwargs)\n",
      "/opt/conda/lib/python3.7/site-packages/sklearn/utils/validation.py:72: DataConversionWarning: A column-vector y was passed when a 1d array was expected. Please change the shape of y to (n_samples, ), for example using ravel().\n",
      "  return f(**kwargs)\n",
      "/opt/conda/lib/python3.7/site-packages/sklearn/utils/validation.py:72: DataConversionWarning: A column-vector y was passed when a 1d array was expected. Please change the shape of y to (n_samples, ), for example using ravel().\n",
      "  return f(**kwargs)\n",
      "/opt/conda/lib/python3.7/site-packages/sklearn/utils/validation.py:72: DataConversionWarning: A column-vector y was passed when a 1d array was expected. Please change the shape of y to (n_samples, ), for example using ravel().\n",
      "  return f(**kwargs)\n",
      "/opt/conda/lib/python3.7/site-packages/sklearn/utils/validation.py:72: DataConversionWarning: A column-vector y was passed when a 1d array was expected. Please change the shape of y to (n_samples, ), for example using ravel().\n",
      "  return f(**kwargs)\n",
      "/opt/conda/lib/python3.7/site-packages/sklearn/utils/validation.py:72: DataConversionWarning: A column-vector y was passed when a 1d array was expected. Please change the shape of y to (n_samples, ), for example using ravel().\n",
      "  return f(**kwargs)\n",
      "/opt/conda/lib/python3.7/site-packages/sklearn/utils/validation.py:72: DataConversionWarning: A column-vector y was passed when a 1d array was expected. Please change the shape of y to (n_samples, ), for example using ravel().\n",
      "  return f(**kwargs)\n",
      "/opt/conda/lib/python3.7/site-packages/sklearn/utils/validation.py:72: DataConversionWarning: A column-vector y was passed when a 1d array was expected. Please change the shape of y to (n_samples, ), for example using ravel().\n",
      "  return f(**kwargs)\n",
      "/opt/conda/lib/python3.7/site-packages/sklearn/utils/validation.py:72: DataConversionWarning: A column-vector y was passed when a 1d array was expected. Please change the shape of y to (n_samples, ), for example using ravel().\n",
      "  return f(**kwargs)\n",
      "/opt/conda/lib/python3.7/site-packages/sklearn/utils/validation.py:72: DataConversionWarning: A column-vector y was passed when a 1d array was expected. Please change the shape of y to (n_samples, ), for example using ravel().\n",
      "  return f(**kwargs)\n",
      "/opt/conda/lib/python3.7/site-packages/sklearn/utils/validation.py:72: DataConversionWarning: A column-vector y was passed when a 1d array was expected. Please change the shape of y to (n_samples, ), for example using ravel().\n",
      "  return f(**kwargs)\n",
      "/opt/conda/lib/python3.7/site-packages/sklearn/utils/validation.py:72: DataConversionWarning: A column-vector y was passed when a 1d array was expected. Please change the shape of y to (n_samples, ), for example using ravel().\n",
      "  return f(**kwargs)\n",
      "/opt/conda/lib/python3.7/site-packages/sklearn/utils/validation.py:72: DataConversionWarning: A column-vector y was passed when a 1d array was expected. Please change the shape of y to (n_samples, ), for example using ravel().\n",
      "  return f(**kwargs)\n",
      "/opt/conda/lib/python3.7/site-packages/sklearn/utils/validation.py:72: DataConversionWarning: A column-vector y was passed when a 1d array was expected. Please change the shape of y to (n_samples, ), for example using ravel().\n",
      "  return f(**kwargs)\n",
      "/opt/conda/lib/python3.7/site-packages/sklearn/utils/validation.py:72: DataConversionWarning: A column-vector y was passed when a 1d array was expected. Please change the shape of y to (n_samples, ), for example using ravel().\n",
      "  return f(**kwargs)\n",
      "/opt/conda/lib/python3.7/site-packages/sklearn/utils/validation.py:72: DataConversionWarning: A column-vector y was passed when a 1d array was expected. Please change the shape of y to (n_samples, ), for example using ravel().\n",
      "  return f(**kwargs)\n",
      "/opt/conda/lib/python3.7/site-packages/sklearn/utils/validation.py:72: DataConversionWarning: A column-vector y was passed when a 1d array was expected. Please change the shape of y to (n_samples, ), for example using ravel().\n",
      "  return f(**kwargs)\n",
      "/opt/conda/lib/python3.7/site-packages/sklearn/utils/validation.py:72: DataConversionWarning: A column-vector y was passed when a 1d array was expected. Please change the shape of y to (n_samples, ), for example using ravel().\n",
      "  return f(**kwargs)\n",
      "/opt/conda/lib/python3.7/site-packages/sklearn/utils/validation.py:72: DataConversionWarning: A column-vector y was passed when a 1d array was expected. Please change the shape of y to (n_samples, ), for example using ravel().\n",
      "  return f(**kwargs)\n",
      "/opt/conda/lib/python3.7/site-packages/sklearn/utils/validation.py:72: DataConversionWarning: A column-vector y was passed when a 1d array was expected. Please change the shape of y to (n_samples, ), for example using ravel().\n",
      "  return f(**kwargs)\n",
      "/opt/conda/lib/python3.7/site-packages/sklearn/utils/validation.py:72: DataConversionWarning: A column-vector y was passed when a 1d array was expected. Please change the shape of y to (n_samples, ), for example using ravel().\n",
      "  return f(**kwargs)\n",
      "/opt/conda/lib/python3.7/site-packages/sklearn/utils/validation.py:72: DataConversionWarning: A column-vector y was passed when a 1d array was expected. Please change the shape of y to (n_samples, ), for example using ravel().\n",
      "  return f(**kwargs)\n",
      "/opt/conda/lib/python3.7/site-packages/sklearn/utils/validation.py:72: DataConversionWarning: A column-vector y was passed when a 1d array was expected. Please change the shape of y to (n_samples, ), for example using ravel().\n",
      "  return f(**kwargs)\n",
      "/opt/conda/lib/python3.7/site-packages/sklearn/utils/validation.py:72: DataConversionWarning: A column-vector y was passed when a 1d array was expected. Please change the shape of y to (n_samples, ), for example using ravel().\n",
      "  return f(**kwargs)\n",
      "/opt/conda/lib/python3.7/site-packages/sklearn/utils/validation.py:72: DataConversionWarning: A column-vector y was passed when a 1d array was expected. Please change the shape of y to (n_samples, ), for example using ravel().\n",
      "  return f(**kwargs)\n",
      "/opt/conda/lib/python3.7/site-packages/sklearn/utils/validation.py:72: DataConversionWarning: A column-vector y was passed when a 1d array was expected. Please change the shape of y to (n_samples, ), for example using ravel().\n",
      "  return f(**kwargs)\n",
      "/opt/conda/lib/python3.7/site-packages/sklearn/utils/validation.py:72: DataConversionWarning: A column-vector y was passed when a 1d array was expected. Please change the shape of y to (n_samples, ), for example using ravel().\n",
      "  return f(**kwargs)\n",
      "/opt/conda/lib/python3.7/site-packages/sklearn/utils/validation.py:72: DataConversionWarning: A column-vector y was passed when a 1d array was expected. Please change the shape of y to (n_samples, ), for example using ravel().\n",
      "  return f(**kwargs)\n",
      "/opt/conda/lib/python3.7/site-packages/sklearn/utils/validation.py:72: DataConversionWarning: A column-vector y was passed when a 1d array was expected. Please change the shape of y to (n_samples, ), for example using ravel().\n",
      "  return f(**kwargs)\n",
      "/opt/conda/lib/python3.7/site-packages/sklearn/utils/validation.py:72: DataConversionWarning: A column-vector y was passed when a 1d array was expected. Please change the shape of y to (n_samples, ), for example using ravel().\n",
      "  return f(**kwargs)\n",
      "/opt/conda/lib/python3.7/site-packages/sklearn/utils/validation.py:72: DataConversionWarning: A column-vector y was passed when a 1d array was expected. Please change the shape of y to (n_samples, ), for example using ravel().\n",
      "  return f(**kwargs)\n",
      "/opt/conda/lib/python3.7/site-packages/sklearn/utils/validation.py:72: DataConversionWarning: A column-vector y was passed when a 1d array was expected. Please change the shape of y to (n_samples, ), for example using ravel().\n",
      "  return f(**kwargs)\n",
      "/opt/conda/lib/python3.7/site-packages/sklearn/utils/validation.py:72: DataConversionWarning: A column-vector y was passed when a 1d array was expected. Please change the shape of y to (n_samples, ), for example using ravel().\n",
      "  return f(**kwargs)\n",
      "/opt/conda/lib/python3.7/site-packages/sklearn/utils/validation.py:72: DataConversionWarning: A column-vector y was passed when a 1d array was expected. Please change the shape of y to (n_samples, ), for example using ravel().\n",
      "  return f(**kwargs)\n",
      "/opt/conda/lib/python3.7/site-packages/sklearn/utils/validation.py:72: DataConversionWarning: A column-vector y was passed when a 1d array was expected. Please change the shape of y to (n_samples, ), for example using ravel().\n",
      "  return f(**kwargs)\n",
      "/opt/conda/lib/python3.7/site-packages/sklearn/utils/validation.py:72: DataConversionWarning: A column-vector y was passed when a 1d array was expected. Please change the shape of y to (n_samples, ), for example using ravel().\n",
      "  return f(**kwargs)\n",
      "/opt/conda/lib/python3.7/site-packages/sklearn/utils/validation.py:72: DataConversionWarning: A column-vector y was passed when a 1d array was expected. Please change the shape of y to (n_samples, ), for example using ravel().\n",
      "  return f(**kwargs)\n",
      "/opt/conda/lib/python3.7/site-packages/sklearn/utils/validation.py:72: DataConversionWarning: A column-vector y was passed when a 1d array was expected. Please change the shape of y to (n_samples, ), for example using ravel().\n",
      "  return f(**kwargs)\n",
      "/opt/conda/lib/python3.7/site-packages/sklearn/utils/validation.py:72: DataConversionWarning: A column-vector y was passed when a 1d array was expected. Please change the shape of y to (n_samples, ), for example using ravel().\n",
      "  return f(**kwargs)\n",
      "/opt/conda/lib/python3.7/site-packages/sklearn/utils/validation.py:72: DataConversionWarning: A column-vector y was passed when a 1d array was expected. Please change the shape of y to (n_samples, ), for example using ravel().\n",
      "  return f(**kwargs)\n",
      "/opt/conda/lib/python3.7/site-packages/sklearn/utils/validation.py:72: DataConversionWarning: A column-vector y was passed when a 1d array was expected. Please change the shape of y to (n_samples, ), for example using ravel().\n",
      "  return f(**kwargs)\n",
      "/opt/conda/lib/python3.7/site-packages/sklearn/utils/validation.py:72: DataConversionWarning: A column-vector y was passed when a 1d array was expected. Please change the shape of y to (n_samples, ), for example using ravel().\n",
      "  return f(**kwargs)\n",
      "/opt/conda/lib/python3.7/site-packages/sklearn/utils/validation.py:72: DataConversionWarning: A column-vector y was passed when a 1d array was expected. Please change the shape of y to (n_samples, ), for example using ravel().\n",
      "  return f(**kwargs)\n",
      "/opt/conda/lib/python3.7/site-packages/sklearn/utils/validation.py:72: DataConversionWarning: A column-vector y was passed when a 1d array was expected. Please change the shape of y to (n_samples, ), for example using ravel().\n",
      "  return f(**kwargs)\n",
      "/opt/conda/lib/python3.7/site-packages/sklearn/utils/validation.py:72: DataConversionWarning: A column-vector y was passed when a 1d array was expected. Please change the shape of y to (n_samples, ), for example using ravel().\n",
      "  return f(**kwargs)\n",
      "/opt/conda/lib/python3.7/site-packages/sklearn/utils/validation.py:72: DataConversionWarning: A column-vector y was passed when a 1d array was expected. Please change the shape of y to (n_samples, ), for example using ravel().\n",
      "  return f(**kwargs)\n",
      "/opt/conda/lib/python3.7/site-packages/sklearn/utils/validation.py:72: DataConversionWarning: A column-vector y was passed when a 1d array was expected. Please change the shape of y to (n_samples, ), for example using ravel().\n",
      "  return f(**kwargs)\n",
      "/opt/conda/lib/python3.7/site-packages/sklearn/utils/validation.py:72: DataConversionWarning: A column-vector y was passed when a 1d array was expected. Please change the shape of y to (n_samples, ), for example using ravel().\n",
      "  return f(**kwargs)\n",
      "/opt/conda/lib/python3.7/site-packages/sklearn/utils/validation.py:72: DataConversionWarning: A column-vector y was passed when a 1d array was expected. Please change the shape of y to (n_samples, ), for example using ravel().\n",
      "  return f(**kwargs)\n",
      "/opt/conda/lib/python3.7/site-packages/sklearn/utils/validation.py:72: DataConversionWarning: A column-vector y was passed when a 1d array was expected. Please change the shape of y to (n_samples, ), for example using ravel().\n",
      "  return f(**kwargs)\n",
      "/opt/conda/lib/python3.7/site-packages/sklearn/utils/validation.py:72: DataConversionWarning: A column-vector y was passed when a 1d array was expected. Please change the shape of y to (n_samples, ), for example using ravel().\n",
      "  return f(**kwargs)\n",
      "/opt/conda/lib/python3.7/site-packages/sklearn/utils/validation.py:72: DataConversionWarning: A column-vector y was passed when a 1d array was expected. Please change the shape of y to (n_samples, ), for example using ravel().\n",
      "  return f(**kwargs)\n",
      "/opt/conda/lib/python3.7/site-packages/sklearn/utils/validation.py:72: DataConversionWarning: A column-vector y was passed when a 1d array was expected. Please change the shape of y to (n_samples, ), for example using ravel().\n",
      "  return f(**kwargs)\n",
      "/opt/conda/lib/python3.7/site-packages/sklearn/utils/validation.py:72: DataConversionWarning: A column-vector y was passed when a 1d array was expected. Please change the shape of y to (n_samples, ), for example using ravel().\n",
      "  return f(**kwargs)\n",
      "/opt/conda/lib/python3.7/site-packages/sklearn/utils/validation.py:72: DataConversionWarning: A column-vector y was passed when a 1d array was expected. Please change the shape of y to (n_samples, ), for example using ravel().\n",
      "  return f(**kwargs)\n",
      "/opt/conda/lib/python3.7/site-packages/sklearn/utils/validation.py:72: DataConversionWarning: A column-vector y was passed when a 1d array was expected. Please change the shape of y to (n_samples, ), for example using ravel().\n",
      "  return f(**kwargs)\n",
      "/opt/conda/lib/python3.7/site-packages/sklearn/utils/validation.py:72: DataConversionWarning: A column-vector y was passed when a 1d array was expected. Please change the shape of y to (n_samples, ), for example using ravel().\n",
      "  return f(**kwargs)\n",
      "/opt/conda/lib/python3.7/site-packages/sklearn/utils/validation.py:72: DataConversionWarning: A column-vector y was passed when a 1d array was expected. Please change the shape of y to (n_samples, ), for example using ravel().\n",
      "  return f(**kwargs)\n",
      "/opt/conda/lib/python3.7/site-packages/sklearn/utils/validation.py:72: DataConversionWarning: A column-vector y was passed when a 1d array was expected. Please change the shape of y to (n_samples, ), for example using ravel().\n",
      "  return f(**kwargs)\n",
      "/opt/conda/lib/python3.7/site-packages/sklearn/utils/validation.py:72: DataConversionWarning: A column-vector y was passed when a 1d array was expected. Please change the shape of y to (n_samples, ), for example using ravel().\n",
      "  return f(**kwargs)\n",
      "/opt/conda/lib/python3.7/site-packages/sklearn/utils/validation.py:72: DataConversionWarning: A column-vector y was passed when a 1d array was expected. Please change the shape of y to (n_samples, ), for example using ravel().\n",
      "  return f(**kwargs)\n",
      "/opt/conda/lib/python3.7/site-packages/sklearn/utils/validation.py:72: DataConversionWarning: A column-vector y was passed when a 1d array was expected. Please change the shape of y to (n_samples, ), for example using ravel().\n",
      "  return f(**kwargs)\n",
      "/opt/conda/lib/python3.7/site-packages/sklearn/utils/validation.py:72: DataConversionWarning: A column-vector y was passed when a 1d array was expected. Please change the shape of y to (n_samples, ), for example using ravel().\n",
      "  return f(**kwargs)\n",
      "/opt/conda/lib/python3.7/site-packages/sklearn/utils/validation.py:72: DataConversionWarning: A column-vector y was passed when a 1d array was expected. Please change the shape of y to (n_samples, ), for example using ravel().\n",
      "  return f(**kwargs)\n",
      "/opt/conda/lib/python3.7/site-packages/sklearn/utils/validation.py:72: DataConversionWarning: A column-vector y was passed when a 1d array was expected. Please change the shape of y to (n_samples, ), for example using ravel().\n",
      "  return f(**kwargs)\n",
      "/opt/conda/lib/python3.7/site-packages/sklearn/utils/validation.py:72: DataConversionWarning: A column-vector y was passed when a 1d array was expected. Please change the shape of y to (n_samples, ), for example using ravel().\n",
      "  return f(**kwargs)\n",
      "/opt/conda/lib/python3.7/site-packages/sklearn/utils/validation.py:72: DataConversionWarning: A column-vector y was passed when a 1d array was expected. Please change the shape of y to (n_samples, ), for example using ravel().\n",
      "  return f(**kwargs)\n",
      "/opt/conda/lib/python3.7/site-packages/sklearn/utils/validation.py:72: DataConversionWarning: A column-vector y was passed when a 1d array was expected. Please change the shape of y to (n_samples, ), for example using ravel().\n",
      "  return f(**kwargs)\n",
      "/opt/conda/lib/python3.7/site-packages/sklearn/utils/validation.py:72: DataConversionWarning: A column-vector y was passed when a 1d array was expected. Please change the shape of y to (n_samples, ), for example using ravel().\n",
      "  return f(**kwargs)\n",
      "/opt/conda/lib/python3.7/site-packages/sklearn/utils/validation.py:72: DataConversionWarning: A column-vector y was passed when a 1d array was expected. Please change the shape of y to (n_samples, ), for example using ravel().\n",
      "  return f(**kwargs)\n",
      "/opt/conda/lib/python3.7/site-packages/sklearn/utils/validation.py:72: DataConversionWarning: A column-vector y was passed when a 1d array was expected. Please change the shape of y to (n_samples, ), for example using ravel().\n",
      "  return f(**kwargs)\n",
      "/opt/conda/lib/python3.7/site-packages/sklearn/utils/validation.py:72: DataConversionWarning: A column-vector y was passed when a 1d array was expected. Please change the shape of y to (n_samples, ), for example using ravel().\n",
      "  return f(**kwargs)\n",
      "/opt/conda/lib/python3.7/site-packages/sklearn/utils/validation.py:72: DataConversionWarning: A column-vector y was passed when a 1d array was expected. Please change the shape of y to (n_samples, ), for example using ravel().\n",
      "  return f(**kwargs)\n",
      "/opt/conda/lib/python3.7/site-packages/sklearn/utils/validation.py:72: DataConversionWarning: A column-vector y was passed when a 1d array was expected. Please change the shape of y to (n_samples, ), for example using ravel().\n",
      "  return f(**kwargs)\n",
      "/opt/conda/lib/python3.7/site-packages/sklearn/utils/validation.py:72: DataConversionWarning: A column-vector y was passed when a 1d array was expected. Please change the shape of y to (n_samples, ), for example using ravel().\n",
      "  return f(**kwargs)\n",
      "/opt/conda/lib/python3.7/site-packages/sklearn/utils/validation.py:72: DataConversionWarning: A column-vector y was passed when a 1d array was expected. Please change the shape of y to (n_samples, ), for example using ravel().\n",
      "  return f(**kwargs)\n",
      "/opt/conda/lib/python3.7/site-packages/sklearn/utils/validation.py:72: DataConversionWarning: A column-vector y was passed when a 1d array was expected. Please change the shape of y to (n_samples, ), for example using ravel().\n",
      "  return f(**kwargs)\n",
      "/opt/conda/lib/python3.7/site-packages/sklearn/utils/validation.py:72: DataConversionWarning: A column-vector y was passed when a 1d array was expected. Please change the shape of y to (n_samples, ), for example using ravel().\n",
      "  return f(**kwargs)\n",
      "/opt/conda/lib/python3.7/site-packages/sklearn/utils/validation.py:72: DataConversionWarning: A column-vector y was passed when a 1d array was expected. Please change the shape of y to (n_samples, ), for example using ravel().\n",
      "  return f(**kwargs)\n",
      "/opt/conda/lib/python3.7/site-packages/sklearn/utils/validation.py:72: DataConversionWarning: A column-vector y was passed when a 1d array was expected. Please change the shape of y to (n_samples, ), for example using ravel().\n",
      "  return f(**kwargs)\n",
      "/opt/conda/lib/python3.7/site-packages/sklearn/utils/validation.py:72: DataConversionWarning: A column-vector y was passed when a 1d array was expected. Please change the shape of y to (n_samples, ), for example using ravel().\n",
      "  return f(**kwargs)\n",
      "/opt/conda/lib/python3.7/site-packages/sklearn/utils/validation.py:72: DataConversionWarning: A column-vector y was passed when a 1d array was expected. Please change the shape of y to (n_samples, ), for example using ravel().\n",
      "  return f(**kwargs)\n",
      "/opt/conda/lib/python3.7/site-packages/sklearn/utils/validation.py:72: DataConversionWarning: A column-vector y was passed when a 1d array was expected. Please change the shape of y to (n_samples, ), for example using ravel().\n",
      "  return f(**kwargs)\n",
      "/opt/conda/lib/python3.7/site-packages/sklearn/utils/validation.py:72: DataConversionWarning: A column-vector y was passed when a 1d array was expected. Please change the shape of y to (n_samples, ), for example using ravel().\n",
      "  return f(**kwargs)\n",
      "/opt/conda/lib/python3.7/site-packages/sklearn/utils/validation.py:72: DataConversionWarning: A column-vector y was passed when a 1d array was expected. Please change the shape of y to (n_samples, ), for example using ravel().\n",
      "  return f(**kwargs)\n",
      "/opt/conda/lib/python3.7/site-packages/sklearn/utils/validation.py:72: DataConversionWarning: A column-vector y was passed when a 1d array was expected. Please change the shape of y to (n_samples, ), for example using ravel().\n",
      "  return f(**kwargs)\n",
      "/opt/conda/lib/python3.7/site-packages/sklearn/utils/validation.py:72: DataConversionWarning: A column-vector y was passed when a 1d array was expected. Please change the shape of y to (n_samples, ), for example using ravel().\n",
      "  return f(**kwargs)\n",
      "/opt/conda/lib/python3.7/site-packages/sklearn/utils/validation.py:72: DataConversionWarning: A column-vector y was passed when a 1d array was expected. Please change the shape of y to (n_samples, ), for example using ravel().\n",
      "  return f(**kwargs)\n",
      "/opt/conda/lib/python3.7/site-packages/sklearn/utils/validation.py:72: DataConversionWarning: A column-vector y was passed when a 1d array was expected. Please change the shape of y to (n_samples, ), for example using ravel().\n",
      "  return f(**kwargs)\n"
     ]
    },
    {
     "data": {
      "text/plain": [
       "GridSearchCV(cv=5, estimator=SVC(random_state=1), n_jobs=-1,\n",
       "             param_grid={'C': [0.01, 0.1, 1, 10], 'degree': [2, 3],\n",
       "                         'gamma': [0.09, 0.1, 0.2, 0.001], 'kernel': ['rbf'],\n",
       "                         'tol': [0.001, 0.0001]})"
      ]
     },
     "execution_count": 34,
     "metadata": {},
     "output_type": "execute_result"
    }
   ],
   "source": [
    "SVM_grid1.fit(X_trains, y_train) "
   ]
  },
  {
   "cell_type": "code",
   "execution_count": 35,
   "id": "251289c1",
   "metadata": {
    "execution": {
     "iopub.execute_input": "2022-02-22T16:08:35.725643Z",
     "iopub.status.busy": "2022-02-22T16:08:35.725053Z",
     "iopub.status.idle": "2022-02-22T16:08:35.729673Z",
     "shell.execute_reply": "2022-02-22T16:08:35.730257Z",
     "shell.execute_reply.started": "2021-12-16T19:58:51.343394Z"
    },
    "papermill": {
     "duration": 0.087036,
     "end_time": "2022-02-22T16:08:35.730400",
     "exception": false,
     "start_time": "2022-02-22T16:08:35.643364",
     "status": "completed"
    },
    "tags": []
   },
   "outputs": [
    {
     "data": {
      "text/plain": [
       "SVC(C=10, degree=2, gamma=0.1, random_state=1)"
      ]
     },
     "execution_count": 35,
     "metadata": {},
     "output_type": "execute_result"
    }
   ],
   "source": [
    "SVM_grid1.best_estimator_"
   ]
  },
  {
   "cell_type": "code",
   "execution_count": 36,
   "id": "4afc1d4a",
   "metadata": {
    "execution": {
     "iopub.execute_input": "2022-02-22T16:08:35.896920Z",
     "iopub.status.busy": "2022-02-22T16:08:35.896275Z",
     "iopub.status.idle": "2022-02-22T16:08:36.213881Z",
     "shell.execute_reply": "2022-02-22T16:08:36.213310Z",
     "shell.execute_reply.started": "2021-12-16T19:58:51.355609Z"
    },
    "papermill": {
     "duration": 0.403022,
     "end_time": "2022-02-22T16:08:36.214027",
     "exception": false,
     "start_time": "2022-02-22T16:08:35.811005",
     "status": "completed"
    },
    "tags": []
   },
   "outputs": [
    {
     "data": {
      "text/plain": [
       "SVC(C=10, degree=2, gamma=0.09, random_state=1)"
      ]
     },
     "execution_count": 36,
     "metadata": {},
     "output_type": "execute_result"
    }
   ],
   "source": [
    "SVM_grid = svm.SVC(C=10,degree=2, gamma=0.09, kernel='rbf', random_state=1)\n",
    "SVM_grid.fit(X_trains, y_train)"
   ]
  },
  {
   "cell_type": "code",
   "execution_count": 37,
   "id": "fef34e75",
   "metadata": {
    "execution": {
     "iopub.execute_input": "2022-02-22T16:08:36.384258Z",
     "iopub.status.busy": "2022-02-22T16:08:36.383474Z",
     "iopub.status.idle": "2022-02-22T16:08:36.578257Z",
     "shell.execute_reply": "2022-02-22T16:08:36.577667Z",
     "shell.execute_reply.started": "2021-12-16T19:58:51.781099Z"
    },
    "papermill": {
     "duration": 0.282224,
     "end_time": "2022-02-22T16:08:36.578399",
     "exception": false,
     "start_time": "2022-02-22T16:08:36.296175",
     "status": "completed"
    },
    "tags": []
   },
   "outputs": [
    {
     "name": "stdout",
     "output_type": "stream",
     "text": [
      "Classification Report of the training data:\n",
      "\n",
      "               precision    recall  f1-score   support\n",
      "\n",
      "         0.0       0.98      0.99      0.99      7727\n",
      "         1.0       0.93      0.84      0.88       777\n",
      "\n",
      "    accuracy                           0.98      8504\n",
      "   macro avg       0.96      0.92      0.94      8504\n",
      "weighted avg       0.98      0.98      0.98      8504\n",
      " \n",
      "\n",
      "Classification Report of the test data:\n",
      "\n",
      "               precision    recall  f1-score   support\n",
      "\n",
      "         0.0       0.98      0.99      0.99      3308\n",
      "         1.0       0.92      0.83      0.87       337\n",
      "\n",
      "    accuracy                           0.98      3645\n",
      "   macro avg       0.95      0.91      0.93      3645\n",
      "weighted avg       0.98      0.98      0.98      3645\n",
      " \n",
      "\n"
     ]
    }
   ],
   "source": [
    "print('Classification Report of the training data:\\n\\n',metrics.classification_report(y_train, SVM_grid.predict(X_trains)),'\\n')\n",
    "print('Classification Report of the test data:\\n\\n',metrics.classification_report(y_test, SVM_grid.predict(X_tests)),'\\n')"
   ]
  },
  {
   "cell_type": "code",
   "execution_count": 38,
   "id": "5277168b",
   "metadata": {
    "execution": {
     "iopub.execute_input": "2022-02-22T16:08:36.746876Z",
     "iopub.status.busy": "2022-02-22T16:08:36.746269Z",
     "iopub.status.idle": "2022-02-22T16:08:36.801662Z",
     "shell.execute_reply": "2022-02-22T16:08:36.801038Z",
     "shell.execute_reply.started": "2021-12-16T19:58:52.046689Z"
    },
    "papermill": {
     "duration": 0.141637,
     "end_time": "2022-02-22T16:08:36.801822",
     "exception": false,
     "start_time": "2022-02-22T16:08:36.660185",
     "status": "completed"
    },
    "tags": []
   },
   "outputs": [
    {
     "name": "stdout",
     "output_type": "stream",
     "text": [
      "SVM best accuracy : 0.978\n"
     ]
    }
   ],
   "source": [
    "y_pred = SVM_grid.predict(X_tests)\n",
    "print( \"SVM best accuracy : \" + str(np.round(metrics.accuracy_score(y_test,y_pred),3)))"
   ]
  },
  {
   "cell_type": "code",
   "execution_count": 39,
   "id": "2d1cdbdf",
   "metadata": {
    "execution": {
     "iopub.execute_input": "2022-02-22T16:08:36.920093Z",
     "iopub.status.busy": "2022-02-22T16:08:36.919356Z",
     "iopub.status.idle": "2022-02-22T16:08:36.928935Z",
     "shell.execute_reply": "2022-02-22T16:08:36.928465Z",
     "shell.execute_reply.started": "2021-12-16T19:58:52.124612Z"
    },
    "papermill": {
     "duration": 0.069632,
     "end_time": "2022-02-22T16:08:36.929052",
     "exception": false,
     "start_time": "2022-02-22T16:08:36.859420",
     "status": "completed"
    },
    "tags": []
   },
   "outputs": [
    {
     "name": "stdout",
     "output_type": "stream",
     "text": [
      "Precision Score :  0.9777777777777777\n",
      "Recall Score :  0.9777777777777777\n"
     ]
    }
   ],
   "source": [
    "print(\"Precision Score : \",precision_score(y_test, y_pred, pos_label='positive',average='micro'))\n",
    "print(\"Recall Score : \",recall_score(y_test, y_pred, pos_label='positive',average='micro'))"
   ]
  },
  {
   "cell_type": "markdown",
   "id": "0abefbdc",
   "metadata": {
    "papermill": {
     "duration": 0.05513,
     "end_time": "2022-02-22T16:08:37.039678",
     "exception": false,
     "start_time": "2022-02-22T16:08:36.984548",
     "status": "completed"
    },
    "tags": []
   },
   "source": [
    "### For Linear kernal"
   ]
  },
  {
   "cell_type": "code",
   "execution_count": 40,
   "id": "2df1cc0a",
   "metadata": {
    "execution": {
     "iopub.execute_input": "2022-02-22T16:08:37.155576Z",
     "iopub.status.busy": "2022-02-22T16:08:37.154881Z",
     "iopub.status.idle": "2022-02-22T16:08:37.727303Z",
     "shell.execute_reply": "2022-02-22T16:08:37.726880Z",
     "shell.execute_reply.started": "2021-12-16T19:58:52.140124Z"
    },
    "papermill": {
     "duration": 0.632136,
     "end_time": "2022-02-22T16:08:37.727412",
     "exception": false,
     "start_time": "2022-02-22T16:08:37.095276",
     "status": "completed"
    },
    "tags": []
   },
   "outputs": [
    {
     "data": {
      "text/plain": [
       "SVC(C=10, degree=2, gamma=0.09, kernel='linear', random_state=1)"
      ]
     },
     "execution_count": 40,
     "metadata": {},
     "output_type": "execute_result"
    }
   ],
   "source": [
    "SVM_grid = svm.SVC(C=10,degree=2, gamma=0.09, kernel='linear', random_state=1)\n",
    "SVM_grid.fit(X_trains, y_train)"
   ]
  },
  {
   "cell_type": "code",
   "execution_count": 41,
   "id": "da98732c",
   "metadata": {
    "execution": {
     "iopub.execute_input": "2022-02-22T16:08:37.842657Z",
     "iopub.status.busy": "2022-02-22T16:08:37.842191Z",
     "iopub.status.idle": "2022-02-22T16:08:38.125913Z",
     "shell.execute_reply": "2022-02-22T16:08:38.125257Z",
     "shell.execute_reply.started": "2021-12-16T19:58:53.050492Z"
    },
    "papermill": {
     "duration": 0.342875,
     "end_time": "2022-02-22T16:08:38.126055",
     "exception": false,
     "start_time": "2022-02-22T16:08:37.783180",
     "status": "completed"
    },
    "tags": []
   },
   "outputs": [
    {
     "name": "stdout",
     "output_type": "stream",
     "text": [
      "Classification Report of the training data:\n",
      "\n",
      "               precision    recall  f1-score   support\n",
      "\n",
      "         0.0       0.98      0.99      0.99      7727\n",
      "         1.0       0.91      0.81      0.86       777\n",
      "\n",
      "    accuracy                           0.98      8504\n",
      "   macro avg       0.94      0.90      0.92      8504\n",
      "weighted avg       0.97      0.98      0.97      8504\n",
      " \n",
      "\n",
      "Classification Report of the test data:\n",
      "\n",
      "               precision    recall  f1-score   support\n",
      "\n",
      "         0.0       0.98      0.99      0.99      3308\n",
      "         1.0       0.89      0.81      0.85       337\n",
      "\n",
      "    accuracy                           0.97      3645\n",
      "   macro avg       0.94      0.90      0.92      3645\n",
      "weighted avg       0.97      0.97      0.97      3645\n",
      " \n",
      "\n"
     ]
    }
   ],
   "source": [
    "print('Classification Report of the training data:\\n\\n',metrics.classification_report(y_train, SVM_grid.predict(X_trains)),'\\n')\n",
    "print('Classification Report of the test data:\\n\\n',metrics.classification_report(y_test, SVM_grid.predict(X_tests)),'\\n')"
   ]
  },
  {
   "cell_type": "code",
   "execution_count": 42,
   "id": "11400681",
   "metadata": {
    "execution": {
     "iopub.execute_input": "2022-02-22T16:08:38.297578Z",
     "iopub.status.busy": "2022-02-22T16:08:38.296982Z",
     "iopub.status.idle": "2022-02-22T16:08:38.321058Z",
     "shell.execute_reply": "2022-02-22T16:08:38.320517Z",
     "shell.execute_reply.started": "2021-12-16T19:58:53.170982Z"
    },
    "papermill": {
     "duration": 0.111208,
     "end_time": "2022-02-22T16:08:38.321186",
     "exception": false,
     "start_time": "2022-02-22T16:08:38.209978",
     "status": "completed"
    },
    "tags": []
   },
   "outputs": [
    {
     "name": "stdout",
     "output_type": "stream",
     "text": [
      "SVM best accuracy : 0.973\n"
     ]
    }
   ],
   "source": [
    "y_pred = SVM_grid.predict(X_tests)\n",
    "print( \"SVM best accuracy : \" + str(np.round(metrics.accuracy_score(y_test,y_pred),3)))"
   ]
  },
  {
   "cell_type": "code",
   "execution_count": 43,
   "id": "c5b484b6",
   "metadata": {
    "execution": {
     "iopub.execute_input": "2022-02-22T16:08:38.490734Z",
     "iopub.status.busy": "2022-02-22T16:08:38.490122Z",
     "iopub.status.idle": "2022-02-22T16:08:38.498278Z",
     "shell.execute_reply": "2022-02-22T16:08:38.498824Z",
     "shell.execute_reply.started": "2021-12-16T19:58:53.204825Z"
    },
    "papermill": {
     "duration": 0.095403,
     "end_time": "2022-02-22T16:08:38.498992",
     "exception": false,
     "start_time": "2022-02-22T16:08:38.403589",
     "status": "completed"
    },
    "tags": []
   },
   "outputs": [
    {
     "name": "stdout",
     "output_type": "stream",
     "text": [
      "Precision Score :  0.9733882030178327\n",
      "Recall Score :  0.9733882030178327\n"
     ]
    }
   ],
   "source": [
    "print(\"Precision Score : \",precision_score(y_test, y_pred, pos_label='positive',average='micro'))\n",
    "print(\"Recall Score : \",recall_score(y_test, y_pred, pos_label='positive',average='micro'))"
   ]
  },
  {
   "cell_type": "markdown",
   "id": "8e561848",
   "metadata": {
    "papermill": {
     "duration": 0.085198,
     "end_time": "2022-02-22T16:08:38.669444",
     "exception": false,
     "start_time": "2022-02-22T16:08:38.584246",
     "status": "completed"
    },
    "tags": []
   },
   "source": [
    "## Find The ROC curve "
   ]
  },
  {
   "cell_type": "code",
   "execution_count": 44,
   "id": "19d92b19",
   "metadata": {
    "execution": {
     "iopub.execute_input": "2022-02-22T16:08:38.841780Z",
     "iopub.status.busy": "2022-02-22T16:08:38.841188Z",
     "iopub.status.idle": "2022-02-22T16:08:38.844421Z",
     "shell.execute_reply": "2022-02-22T16:08:38.844971Z",
     "shell.execute_reply.started": "2021-12-16T19:58:53.220304Z"
    },
    "papermill": {
     "duration": 0.090657,
     "end_time": "2022-02-22T16:08:38.845154",
     "exception": false,
     "start_time": "2022-02-22T16:08:38.754497",
     "status": "completed"
    },
    "tags": []
   },
   "outputs": [],
   "source": [
    "cutoff_grid = np.linspace(0.0,1.0,100)\n",
    "TPR = []                                                 \n",
    "FPR = []                                                "
   ]
  },
  {
   "cell_type": "code",
   "execution_count": 45,
   "id": "a9e8c7d3",
   "metadata": {
    "execution": {
     "iopub.execute_input": "2022-02-22T16:08:38.970852Z",
     "iopub.status.busy": "2022-02-22T16:08:38.970185Z",
     "iopub.status.idle": "2022-02-22T16:08:38.974011Z",
     "shell.execute_reply": "2022-02-22T16:08:38.974363Z",
     "shell.execute_reply.started": "2021-12-16T19:58:53.228104Z"
    },
    "papermill": {
     "duration": 0.063745,
     "end_time": "2022-02-22T16:08:38.974503",
     "exception": false,
     "start_time": "2022-02-22T16:08:38.910758",
     "status": "completed"
    },
    "tags": []
   },
   "outputs": [],
   "source": [
    "FPR, TPR, cutoffs = metrics.roc_curve(y_test,y_pred,pos_label=1)      # positive label = 1.\n"
   ]
  },
  {
   "cell_type": "code",
   "execution_count": 46,
   "id": "9b4fb95b",
   "metadata": {
    "execution": {
     "iopub.execute_input": "2022-02-22T16:08:39.118996Z",
     "iopub.status.busy": "2022-02-22T16:08:39.118458Z",
     "iopub.status.idle": "2022-02-22T16:08:39.264914Z",
     "shell.execute_reply": "2022-02-22T16:08:39.265299Z",
     "shell.execute_reply.started": "2021-12-16T19:58:53.248883Z"
    },
    "papermill": {
     "duration": 0.233552,
     "end_time": "2022-02-22T16:08:39.265446",
     "exception": false,
     "start_time": "2022-02-22T16:08:39.031894",
     "status": "completed"
    },
    "tags": []
   },
   "outputs": [
    {
     "data": {
      "image/png": "[encoded data removed]",
      "text/plain": [
       "<Figure size 432x288 with 1 Axes>"
      ]
     },
     "metadata": {
      "needs_background": "light"
     },
     "output_type": "display_data"
    }
   ],
   "source": [
    "# Visualize.\n",
    "plt.plot(FPR,TPR,linewidth=1.0)\n",
    "plt.xlabel('False Positive')\n",
    "plt.ylabel('True Positive')\n",
    "plt.title('ROC Curve')\n",
    "plt.show()"
   ]
  },
  {
   "cell_type": "code",
   "execution_count": null,
   "id": "6e7da51c",
   "metadata": {
    "papermill": {
     "duration": 0.058439,
     "end_time": "2022-02-22T16:08:39.382815",
     "exception": false,
     "start_time": "2022-02-22T16:08:39.324376",
     "status": "completed"
    },
    "tags": []
   },
   "outputs": [],
   "source": []
  }
 ],
 "metadata": {
  "kernelspec": {
   "display_name": "Python 3",
   "language": "python",
   "name": "python3"
  },
  "language_info": {
   "codemirror_mode": {
    "name": "ipython",
    "version": 3
   },
   "file_extension": ".py",
   "mimetype": "text/x-python",
   "name": "python",
   "nbconvert_exporter": "python",
   "pygments_lexer": "ipython3",
   "version": "3.7.10"
  },
  "papermill": {
   "default_parameters": {},
   "duration": 71.5855,
   "end_time": "2022-02-22T16:08:40.553208",
   "environment_variables": {},
   "exception": null,
   "input_path": "__notebook__.ipynb",
   "output_path": "__notebook__.ipynb",
   "parameters": {},
   "start_time": "2022-02-22T16:07:28.967708",
   "version": "2.3.3"
  }
 },
 "nbformat": 4,
 "nbformat_minor": 5
}
